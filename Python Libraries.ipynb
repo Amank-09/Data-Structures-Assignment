{
 "cells": [
  {
   "cell_type": "code",
   "execution_count": 2,
   "id": "9f89108b-e28f-41f7-a441-533ce9d3e3f3",
   "metadata": {},
   "outputs": [],
   "source": [
    "# crispdm >> cross industry standard process for data mining\n",
    "# NUMPY >> Numerical Python"
   ]
  },
  {
   "cell_type": "code",
   "execution_count": 4,
   "id": "2bfffa64-615d-4428-a5e0-9de1b1d656ce",
   "metadata": {},
   "outputs": [],
   "source": [
    "import numpy as np\n",
    "import random"
   ]
  },
  {
   "cell_type": "code",
   "execution_count": 6,
   "id": "e4f5ed33-c656-4eee-a7dd-3f05a966ec82",
   "metadata": {},
   "outputs": [
    {
     "data": {
      "text/plain": [
       "'1.26.4'"
      ]
     },
     "execution_count": 6,
     "metadata": {},
     "output_type": "execute_result"
    }
   ],
   "source": [
    "np.__version__"
   ]
  },
  {
   "cell_type": "code",
   "execution_count": 16,
   "id": "611fb5d9-ca23-4d3b-a333-49aec563bbb3",
   "metadata": {},
   "outputs": [],
   "source": [
    "l = [1,2,3,4,5]\n",
    "arr = np.array(l)"
   ]
  },
  {
   "cell_type": "code",
   "execution_count": 10,
   "id": "3f5f63e6-42be-45f3-aaa7-3e2c5b0effc6",
   "metadata": {},
   "outputs": [
    {
     "data": {
      "text/plain": [
       "array([1, 2, 3, 4, 5])"
      ]
     },
     "execution_count": 10,
     "metadata": {},
     "output_type": "execute_result"
    }
   ],
   "source": [
    "arr"
   ]
  },
  {
   "cell_type": "code",
   "execution_count": 14,
   "id": "60e31626-28a6-4598-8885-3b713cdd2715",
   "metadata": {},
   "outputs": [
    {
     "data": {
      "text/plain": [
       "1"
      ]
     },
     "execution_count": 14,
     "metadata": {},
     "output_type": "execute_result"
    }
   ],
   "source": [
    "arr.ndim # to know the dimension of array"
   ]
  },
  {
   "cell_type": "code",
   "execution_count": 18,
   "id": "5999655f-021d-43a1-b139-210967dac089",
   "metadata": {},
   "outputs": [
    {
     "data": {
      "text/plain": [
       "array([1, 2, 3, 4, 5])"
      ]
     },
     "execution_count": 18,
     "metadata": {},
     "output_type": "execute_result"
    }
   ],
   "source": [
    "l1 = [1,2,3,4,5]\n",
    "np.asarray(l1) # directly convert to an array even if is an array or not an array\n",
    "# np.asanyarray converts the input to an ndarray, but pass ndarray subclasses through i.e.\n",
    "# if input is a matrix or any other subclass, it will not be converted to array"
   ]
  },
  {
   "cell_type": "code",
   "execution_count": null,
   "id": "d066e097-f3ec-4f92-ab2f-13270245b6b0",
   "metadata": {},
   "outputs": [],
   "source": [
    "# matrix is a specialised 2D array (always 2D)\n",
    "# "
   ]
  },
  {
   "cell_type": "code",
   "execution_count": 22,
   "id": "f9ac0496-6089-42b0-88c7-d49f92e39308",
   "metadata": {},
   "outputs": [
    {
     "data": {
      "text/plain": [
       "array([[ True, False, False],\n",
       "       [False,  True, False],\n",
       "       [False, False,  True]])"
      ]
     },
     "execution_count": 22,
     "metadata": {},
     "output_type": "execute_result"
    }
   ],
   "source": [
    "# Other ways of creating array\n",
    "np.fromfunction(lambda i,j : i==j , (3,3))"
   ]
  },
  {
   "cell_type": "code",
   "execution_count": 24,
   "id": "27cf0114-66c6-4219-89ee-df2c72ff44eb",
   "metadata": {},
   "outputs": [
    {
     "data": {
      "text/plain": [
       "array([[0., 0., 0.],\n",
       "       [0., 1., 2.],\n",
       "       [0., 2., 4.]])"
      ]
     },
     "execution_count": 24,
     "metadata": {},
     "output_type": "execute_result"
    }
   ],
   "source": [
    "# 1. \n",
    "np.fromfunction(lambda i,j : i*j , (3,3))"
   ]
  },
  {
   "cell_type": "code",
   "execution_count": 26,
   "id": "6a54e430-4119-401f-b69a-173fa702dd54",
   "metadata": {},
   "outputs": [
    {
     "data": {
      "text/plain": [
       "array([0, 1, 2, 3, 4])"
      ]
     },
     "execution_count": 26,
     "metadata": {},
     "output_type": "execute_result"
    }
   ],
   "source": [
    "# 2.\n",
    "it = (i for i in range(5))\n",
    "np.fromiter(it,int)"
   ]
  },
  {
   "cell_type": "code",
   "execution_count": 28,
   "id": "93748b46-1183-45d7-9b2e-11ee98aecf50",
   "metadata": {},
   "outputs": [
    {
     "data": {
      "text/plain": [
       "array([1, 2, 3, 4, 5, 6, 7, 8, 9])"
      ]
     },
     "execution_count": 28,
     "metadata": {},
     "output_type": "execute_result"
    }
   ],
   "source": [
    "# 3.\n",
    "np.arange(1,10,1)"
   ]
  },
  {
   "cell_type": "code",
   "execution_count": 32,
   "id": "03d6280c-c808-4fd4-9af8-732c7887d563",
   "metadata": {},
   "outputs": [
    {
     "data": {
      "text/plain": [
       "array([1.        , 1.44444444, 1.88888889, 2.33333333, 2.77777778,\n",
       "       3.22222222, 3.66666667, 4.11111111, 4.55555556, 5.        ])"
      ]
     },
     "execution_count": 32,
     "metadata": {},
     "output_type": "execute_result"
    }
   ],
   "source": [
    "# 4.\n",
    "np.linspace(1, 5, 10) # Return evenly spaced numbers over a specified interval\n",
    "# Give me 10 numbers between 1 and 5 evenly spaced."
   ]
  },
  {
   "cell_type": "code",
   "execution_count": 44,
   "id": "5d4e5a6a-e8e6-4145-9483-d0bd90f83aca",
   "metadata": {},
   "outputs": [],
   "source": [
    "# Advance numpy\n",
    "a = np.zeros((2,3)) # 2-D"
   ]
  },
  {
   "cell_type": "code",
   "execution_count": 48,
   "id": "f0b99e92-539e-4702-ac27-8c8741897b98",
   "metadata": {},
   "outputs": [
    {
     "data": {
      "text/plain": [
       "2"
      ]
     },
     "execution_count": 48,
     "metadata": {},
     "output_type": "execute_result"
    }
   ],
   "source": [
    "a.ndim"
   ]
  },
  {
   "cell_type": "code",
   "execution_count": 54,
   "id": "817307ce-8e6c-4e0d-92cd-db8201676c45",
   "metadata": {},
   "outputs": [
    {
     "data": {
      "text/plain": [
       "array([[[0., 0., 0.],\n",
       "        [0., 0., 0.]]])"
      ]
     },
     "execution_count": 54,
     "metadata": {},
     "output_type": "execute_result"
    }
   ],
   "source": [
    "b = np.zeros((1,2,3)) # 3-D\n",
    "b"
   ]
  },
  {
   "cell_type": "code",
   "execution_count": 52,
   "id": "579a79e2-bd50-4b70-803b-9b89342390d9",
   "metadata": {},
   "outputs": [
    {
     "data": {
      "text/plain": [
       "3"
      ]
     },
     "execution_count": 52,
     "metadata": {},
     "output_type": "execute_result"
    }
   ],
   "source": [
    "b.ndim"
   ]
  },
  {
   "cell_type": "code",
   "execution_count": 58,
   "id": "70952fda-acd6-4f83-800f-d3590e29a4d8",
   "metadata": {},
   "outputs": [
    {
     "data": {
      "text/plain": [
       "array([[1, 0, 0],\n",
       "       [0, 1, 0],\n",
       "       [0, 0, 1]])"
      ]
     },
     "execution_count": 58,
     "metadata": {},
     "output_type": "execute_result"
    }
   ],
   "source": [
    "np.eye(3, dtype = int) # returns a 2-D array with ones in the diagonal and zeros elsewhere"
   ]
  },
  {
   "cell_type": "code",
   "execution_count": 2,
   "id": "3021d4ee-a8a1-487c-8b73-9492aaf518c4",
   "metadata": {},
   "outputs": [],
   "source": [
    "# while reshaping number of elements must be same"
   ]
  },
  {
   "cell_type": "code",
   "execution_count": 8,
   "id": "cbcded46-ed53-46e1-9e59-91a8875b3070",
   "metadata": {},
   "outputs": [
    {
     "data": {
      "text/plain": [
       "array([[9, 8, 8, 1, 5, 8],\n",
       "       [8, 6, 7, 4, 6, 7],\n",
       "       [3, 8, 1, 7, 9, 2],\n",
       "       [9, 6, 1, 3, 9, 1],\n",
       "       [1, 6, 3, 2, 9, 1]])"
      ]
     },
     "execution_count": 8,
     "metadata": {},
     "output_type": "execute_result"
    }
   ],
   "source": [
    "# conditions on array\n",
    "arr1 = np.random.randint(1,10,(5,6))\n",
    "arr1"
   ]
  },
  {
   "cell_type": "code",
   "execution_count": 12,
   "id": "ac25a969-0b19-4e9d-91ee-33b5d858a658",
   "metadata": {},
   "outputs": [
    {
     "data": {
      "text/plain": [
       "array([[ True,  True,  True, False,  True,  True],\n",
       "       [ True,  True,  True,  True,  True,  True],\n",
       "       [False,  True, False,  True,  True, False],\n",
       "       [ True,  True, False, False,  True, False],\n",
       "       [False,  True, False, False,  True, False]])"
      ]
     },
     "execution_count": 12,
     "metadata": {},
     "output_type": "execute_result"
    }
   ],
   "source": [
    "arr1>3  # returns true for the values that are greater than 3"
   ]
  },
  {
   "cell_type": "code",
   "execution_count": 14,
   "id": "7616d22c-3ef1-45a4-95a2-244aa74279ca",
   "metadata": {},
   "outputs": [
    {
     "data": {
      "text/plain": [
       "array([9, 8, 8, 5, 8, 8, 6, 7, 4, 6, 7, 8, 7, 9, 9, 6, 9, 6, 9])"
      ]
     },
     "execution_count": 14,
     "metadata": {},
     "output_type": "execute_result"
    }
   ],
   "source": [
    "arr1[arr1>3] # returns elements that are greater than 3"
   ]
  },
  {
   "cell_type": "code",
   "execution_count": 16,
   "id": "10558d69-52e4-47e7-a0c8-384307a17dd0",
   "metadata": {},
   "outputs": [
    {
     "data": {
      "text/plain": [
       "array([9, 8, 8, 1, 5, 8])"
      ]
     },
     "execution_count": 16,
     "metadata": {},
     "output_type": "execute_result"
    }
   ],
   "source": [
    "# to access elements\n",
    "arr1[0] # returns 0th row"
   ]
  },
  {
   "cell_type": "code",
   "execution_count": 20,
   "id": "eb429b86-a3c3-44c1-a0ee-f2d28e80a9d6",
   "metadata": {},
   "outputs": [
    {
     "data": {
      "text/plain": [
       "4"
      ]
     },
     "execution_count": 20,
     "metadata": {},
     "output_type": "execute_result"
    }
   ],
   "source": [
    "arr1[1][3] # returns 1st row 3rd element"
   ]
  },
  {
   "cell_type": "code",
   "execution_count": 22,
   "id": "bfdfe466-c1ce-4800-b9c7-b838f6cd15b7",
   "metadata": {},
   "outputs": [
    {
     "data": {
      "text/plain": [
       "array([[9, 8, 8, 1, 5, 8],\n",
       "       [8, 6, 7, 4, 6, 7]])"
      ]
     },
     "execution_count": 22,
     "metadata": {},
     "output_type": "execute_result"
    }
   ],
   "source": [
    "arr1[0:2] # returns 0th row and 1st row, similar to string slicing"
   ]
  },
  {
   "cell_type": "code",
   "execution_count": 24,
   "id": "5e27618b-29b0-47f7-9d22-67fe59bd277a",
   "metadata": {},
   "outputs": [
    {
     "data": {
      "text/plain": [
       "array([[9, 8],\n",
       "       [8, 7]])"
      ]
     },
     "execution_count": 24,
     "metadata": {},
     "output_type": "execute_result"
    }
   ],
   "source": [
    "arr1[0:2,[0,2]] # [0,2] returns 0th and 2nd column"
   ]
  },
  {
   "cell_type": "code",
   "execution_count": 26,
   "id": "713402cc-00fe-48ef-9fe4-803b51aa3e00",
   "metadata": {},
   "outputs": [
    {
     "data": {
      "text/plain": [
       "array([[9, 8],\n",
       "       [8, 6]])"
      ]
     },
     "execution_count": 26,
     "metadata": {},
     "output_type": "execute_result"
    }
   ],
   "source": [
    "arr1[0:2,0:2] # 1st and 2nd row and column"
   ]
  },
  {
   "cell_type": "code",
   "execution_count": 28,
   "id": "4ae3372e-e77b-454e-beb0-8585aa347675",
   "metadata": {},
   "outputs": [
    {
     "data": {
      "text/plain": [
       "array([[9, 8, 3, 9, 1],\n",
       "       [8, 6, 8, 6, 6],\n",
       "       [8, 7, 1, 1, 3],\n",
       "       [1, 4, 7, 3, 2],\n",
       "       [5, 6, 9, 9, 9],\n",
       "       [8, 7, 2, 1, 1]])"
      ]
     },
     "execution_count": 28,
     "metadata": {},
     "output_type": "execute_result"
    }
   ],
   "source": [
    "# transpose\n",
    "arr1.T"
   ]
  },
  {
   "cell_type": "code",
   "execution_count": 30,
   "id": "862a9393-ed83-4038-b8c4-e69b3c8b72c2",
   "metadata": {},
   "outputs": [
    {
     "data": {
      "text/plain": [
       "array([[3.        , 2.82842712, 2.82842712, 1.        , 2.23606798,\n",
       "        2.82842712],\n",
       "       [2.82842712, 2.44948974, 2.64575131, 2.        , 2.44948974,\n",
       "        2.64575131],\n",
       "       [1.73205081, 2.82842712, 1.        , 2.64575131, 3.        ,\n",
       "        1.41421356],\n",
       "       [3.        , 2.44948974, 1.        , 1.73205081, 3.        ,\n",
       "        1.        ],\n",
       "       [1.        , 2.44948974, 1.73205081, 1.41421356, 3.        ,\n",
       "        1.        ]])"
      ]
     },
     "execution_count": 30,
     "metadata": {},
     "output_type": "execute_result"
    }
   ],
   "source": [
    "np.sqrt(arr1)"
   ]
  },
  {
   "cell_type": "code",
   "execution_count": 32,
   "id": "eca56f98-646e-40f5-83dc-1703efe68390",
   "metadata": {},
   "outputs": [
    {
     "data": {
      "text/plain": [
       "array([[0.95424251, 0.90308999, 0.90308999, 0.        , 0.69897   ,\n",
       "        0.90308999],\n",
       "       [0.90308999, 0.77815125, 0.84509804, 0.60205999, 0.77815125,\n",
       "        0.84509804],\n",
       "       [0.47712125, 0.90308999, 0.        , 0.84509804, 0.95424251,\n",
       "        0.30103   ],\n",
       "       [0.95424251, 0.77815125, 0.        , 0.47712125, 0.95424251,\n",
       "        0.        ],\n",
       "       [0.        , 0.77815125, 0.47712125, 0.30103   , 0.95424251,\n",
       "        0.        ]])"
      ]
     },
     "execution_count": 32,
     "metadata": {},
     "output_type": "execute_result"
    }
   ],
   "source": [
    "np.log10(arr1)"
   ]
  },
  {
   "cell_type": "code",
   "execution_count": 34,
   "id": "edf158f2-5861-45de-9317-053b0ff34e57",
   "metadata": {},
   "outputs": [
    {
     "data": {
      "text/plain": [
       "array([[8.10308393e+03, 2.98095799e+03, 2.98095799e+03, 2.71828183e+00,\n",
       "        1.48413159e+02, 2.98095799e+03],\n",
       "       [2.98095799e+03, 4.03428793e+02, 1.09663316e+03, 5.45981500e+01,\n",
       "        4.03428793e+02, 1.09663316e+03],\n",
       "       [2.00855369e+01, 2.98095799e+03, 2.71828183e+00, 1.09663316e+03,\n",
       "        8.10308393e+03, 7.38905610e+00],\n",
       "       [8.10308393e+03, 4.03428793e+02, 2.71828183e+00, 2.00855369e+01,\n",
       "        8.10308393e+03, 2.71828183e+00],\n",
       "       [2.71828183e+00, 4.03428793e+02, 2.00855369e+01, 7.38905610e+00,\n",
       "        8.10308393e+03, 2.71828183e+00]])"
      ]
     },
     "execution_count": 34,
     "metadata": {},
     "output_type": "execute_result"
    }
   ],
   "source": [
    "np.exp(arr1) # exponential"
   ]
  },
  {
   "cell_type": "code",
   "execution_count": 36,
   "id": "cb502233-aa5d-4d3f-bdb5-17a19597369c",
   "metadata": {},
   "outputs": [
    {
     "data": {
      "text/plain": [
       "1"
      ]
     },
     "execution_count": 36,
     "metadata": {},
     "output_type": "execute_result"
    }
   ],
   "source": [
    "np.min(arr1)"
   ]
  },
  {
   "cell_type": "code",
   "execution_count": 38,
   "id": "f86b5b5f-0d92-402c-b709-4be47ba7606f",
   "metadata": {},
   "outputs": [
    {
     "data": {
      "text/plain": [
       "9"
      ]
     },
     "execution_count": 38,
     "metadata": {},
     "output_type": "execute_result"
    }
   ],
   "source": [
    "np.max(arr1)"
   ]
  },
  {
   "cell_type": "code",
   "execution_count": 56,
   "id": "2d41eccf-8903-47b6-af0f-e33fcbfb0dfe",
   "metadata": {},
   "outputs": [
    {
     "data": {
      "text/plain": [
       "array([[2, 1, 1],\n",
       "       [2, 2, 1],\n",
       "       [1, 2, 1]])"
      ]
     },
     "execution_count": 56,
     "metadata": {},
     "output_type": "execute_result"
    }
   ],
   "source": [
    "arr2 = np.random.randint(1,3,(3,3))\n",
    "arr2"
   ]
  },
  {
   "cell_type": "code",
   "execution_count": 64,
   "id": "531374a2-de93-405b-b11d-38104076e622",
   "metadata": {},
   "outputs": [
    {
     "data": {
      "text/plain": [
       "array([2, 1, 1, 2, 2, 1, 1, 2, 1])"
      ]
     },
     "execution_count": 64,
     "metadata": {},
     "output_type": "execute_result"
    }
   ],
   "source": [
    "arr2.flatten() # collapses all values into 1D"
   ]
  },
  {
   "cell_type": "code",
   "execution_count": 70,
   "id": "91ec2dbc-864f-4880-9785-d118afadacde",
   "metadata": {},
   "outputs": [
    {
     "data": {
      "text/plain": [
       "array([[1],\n",
       "       [2],\n",
       "       [3]])"
      ]
     },
     "execution_count": 70,
     "metadata": {},
     "output_type": "execute_result"
    }
   ],
   "source": [
    "a = np.array([[1],[2],[3]])\n",
    "a"
   ]
  },
  {
   "cell_type": "code",
   "execution_count": 72,
   "id": "492dc4fd-8c26-4c0e-b06a-fceabb3fcfbd",
   "metadata": {},
   "outputs": [
    {
     "data": {
      "text/plain": [
       "array([1, 2, 3])"
      ]
     },
     "execution_count": 72,
     "metadata": {},
     "output_type": "execute_result"
    }
   ],
   "source": [
    "np.squeeze(a) #Remove axes of length one from array i.e 2D converted to 1D"
   ]
  },
  {
   "cell_type": "code",
   "execution_count": 66,
   "id": "ce6490bf-d717-452d-886a-bbc88ece3b0f",
   "metadata": {},
   "outputs": [
    {
     "data": {
      "text/plain": [
       "array([[2],\n",
       "       [3],\n",
       "       [1]])"
      ]
     },
     "execution_count": 66,
     "metadata": {},
     "output_type": "execute_result"
    }
   ],
   "source": [
    "np.roll(a, -1)"
   ]
  },
  {
   "cell_type": "code",
   "execution_count": 68,
   "id": "447c6be0-d710-4507-aad2-b54ec375fc01",
   "metadata": {},
   "outputs": [
    {
     "data": {
      "text/plain": [
       "array([[3],\n",
       "       [1],\n",
       "       [2]])"
      ]
     },
     "execution_count": 68,
     "metadata": {},
     "output_type": "execute_result"
    }
   ],
   "source": [
    "np.roll(a, -2) # for rolling 2-D array provide axis = 0 or 1"
   ]
  },
  {
   "cell_type": "code",
   "execution_count": 78,
   "id": "2a759863-9c7a-4160-93ab-754fc62533df",
   "metadata": {},
   "outputs": [
    {
     "data": {
      "text/plain": [
       "array([[8, 1, 1],\n",
       "       [8, 8, 1],\n",
       "       [1, 8, 1]], dtype=int32)"
      ]
     },
     "execution_count": 78,
     "metadata": {},
     "output_type": "execute_result"
    }
   ],
   "source": [
    "np.power(arr2, 3)"
   ]
  },
  {
   "cell_type": "code",
   "execution_count": 80,
   "id": "4e484c04-3758-408a-b48c-1ec958590d74",
   "metadata": {},
   "outputs": [
    {
     "data": {
      "text/plain": [
       "1.4444444444444444"
      ]
     },
     "execution_count": 80,
     "metadata": {},
     "output_type": "execute_result"
    }
   ],
   "source": [
    "np.mean(arr2)"
   ]
  },
  {
   "cell_type": "code",
   "execution_count": 82,
   "id": "b637340d-9eb0-4b06-96be-634228d8e401",
   "metadata": {},
   "outputs": [
    {
     "data": {
      "text/plain": [
       "0.4969039949999533"
      ]
     },
     "execution_count": 82,
     "metadata": {},
     "output_type": "execute_result"
    }
   ],
   "source": [
    "np.std(arr2)"
   ]
  },
  {
   "cell_type": "code",
   "execution_count": 84,
   "id": "c33c3170-d586-454e-a2c2-1cc66a696dd9",
   "metadata": {},
   "outputs": [
    {
     "data": {
      "text/plain": [
       "0.2469135802469136"
      ]
     },
     "execution_count": 84,
     "metadata": {},
     "output_type": "execute_result"
    }
   ],
   "source": [
    "np.var(arr2)"
   ]
  },
  {
   "cell_type": "code",
   "execution_count": 88,
   "id": "355135a1-71a5-4beb-aefc-5c6fd8079a20",
   "metadata": {},
   "outputs": [
    {
     "data": {
      "text/plain": [
       "array([5, 3, 4, 1, 2])"
      ]
     },
     "execution_count": 88,
     "metadata": {},
     "output_type": "execute_result"
    }
   ],
   "source": [
    "# sort search in numpy array\n",
    "b = np.array([5,3,4,1,2])\n",
    "b"
   ]
  },
  {
   "cell_type": "code",
   "execution_count": 90,
   "id": "41189664-bbc7-4310-9dc6-157aec2098a1",
   "metadata": {},
   "outputs": [
    {
     "data": {
      "text/plain": [
       "array([1, 2, 3, 4, 5])"
      ]
     },
     "execution_count": 90,
     "metadata": {},
     "output_type": "execute_result"
    }
   ],
   "source": [
    "np.sort(b)"
   ]
  },
  {
   "cell_type": "code",
   "execution_count": 112,
   "id": "d25cfa82-f05c-4231-97b9-97dcabe7dfd5",
   "metadata": {},
   "outputs": [
    {
     "data": {
      "text/plain": [
       "array([  4,  34, 567, 123,  50,   7,  81])"
      ]
     },
     "execution_count": 112,
     "metadata": {},
     "output_type": "execute_result"
    }
   ],
   "source": [
    "c = np.array([4,34,567,123,50,7,81])\n",
    "c"
   ]
  },
  {
   "cell_type": "code",
   "execution_count": 118,
   "id": "e636f21f-7328-4f3e-9fa4-6f3a13302715",
   "metadata": {},
   "outputs": [
    {
     "data": {
      "text/plain": [
       "array([  4,   7,  34,  50,  81, 123, 567])"
      ]
     },
     "execution_count": 118,
     "metadata": {},
     "output_type": "execute_result"
    }
   ],
   "source": [
    "d = np.sort(c)\n",
    "d"
   ]
  },
  {
   "cell_type": "code",
   "execution_count": 122,
   "id": "b4db53c7-ea3e-4d78-9f6d-637b0ba32f71",
   "metadata": {},
   "outputs": [
    {
     "data": {
      "text/plain": [
       "3"
      ]
     },
     "execution_count": 122,
     "metadata": {},
     "output_type": "execute_result"
    }
   ],
   "source": [
    "np.searchsorted(d,45) #Find indices where elements should be inserted to maintain order.\n",
    "# only sorted array must be passed."
   ]
  },
  {
   "cell_type": "code",
   "execution_count": 124,
   "id": "6b4bf15c-13ac-498d-8578-83e3f2805a50",
   "metadata": {},
   "outputs": [
    {
     "data": {
      "text/plain": [
       "7"
      ]
     },
     "execution_count": 124,
     "metadata": {},
     "output_type": "execute_result"
    }
   ],
   "source": [
    "np.count_nonzero(c) # or c[c>0]"
   ]
  },
  {
   "cell_type": "code",
   "execution_count": 126,
   "id": "24ea838f-9a6c-4efd-8dc7-f14f7bb8c36b",
   "metadata": {},
   "outputs": [
    {
     "data": {
      "text/plain": [
       "0.9999999999999998"
      ]
     },
     "execution_count": 126,
     "metadata": {},
     "output_type": "execute_result"
    }
   ],
   "source": [
    "np.linalg.det(arr2)"
   ]
  },
  {
   "cell_type": "code",
   "execution_count": 134,
   "id": "17c4288f-c395-4f71-9ae3-1e363ffded67",
   "metadata": {},
   "outputs": [
    {
     "data": {
      "text/plain": [
       "array([[-1.11022302e-16,  1.00000000e+00, -1.00000000e+00],\n",
       "       [-1.00000000e+00,  1.00000000e+00,  0.00000000e+00],\n",
       "       [ 2.00000000e+00, -3.00000000e+00,  2.00000000e+00]])"
      ]
     },
     "execution_count": 134,
     "metadata": {},
     "output_type": "execute_result"
    }
   ],
   "source": [
    "np.linalg.inv(arr2)"
   ]
  },
  {
   "cell_type": "code",
   "execution_count": 138,
   "id": "03541d20-d65b-490e-982a-ab99baaa4f80",
   "metadata": {},
   "outputs": [],
   "source": [
    "# solving linear equations in numpy\n",
    "a = np.array([[7,5.3,-3],[2,-5,2],[5,3,-7]])"
   ]
  },
  {
   "cell_type": "code",
   "execution_count": 140,
   "id": "32df4ec4-a96b-48e8-981c-00b6d52607ef",
   "metadata": {},
   "outputs": [],
   "source": [
    "b = np.array([16,8,0])"
   ]
  },
  {
   "cell_type": "code",
   "execution_count": 142,
   "id": "1f647d1a-dccf-4a3f-9f40-639d1cd32837",
   "metadata": {},
   "outputs": [
    {
     "data": {
      "text/plain": [
       "array([2.90387858, 0.47217538, 2.27655987])"
      ]
     },
     "execution_count": 142,
     "metadata": {},
     "output_type": "execute_result"
    }
   ],
   "source": [
    "np.linalg.solve(a,b) # returns the values x, y, z"
   ]
  },
  {
   "cell_type": "code",
   "execution_count": null,
   "id": "1d89ad40-c81f-4ca0-8d16-3afd723b245d",
   "metadata": {},
   "outputs": [],
   "source": [
    "# PANDAS\n",
    "# df.info"
   ]
  }
 ],
 "metadata": {
  "kernelspec": {
   "display_name": "Python 3 (ipykernel)",
   "language": "python",
   "name": "python3"
  },
  "language_info": {
   "codemirror_mode": {
    "name": "ipython",
    "version": 3
   },
   "file_extension": ".py",
   "mimetype": "text/x-python",
   "name": "python",
   "nbconvert_exporter": "python",
   "pygments_lexer": "ipython3",
   "version": "3.12.7"
  }
 },
 "nbformat": 4,
 "nbformat_minor": 5
}
