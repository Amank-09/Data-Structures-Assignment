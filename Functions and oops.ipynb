{
 "cells": [
  {
   "cell_type": "code",
   "execution_count": 4,
   "id": "2326e9ee-981f-483f-b070-52b4896b2e69",
   "metadata": {},
   "outputs": [
    {
     "data": {
      "text/plain": [
       "7"
      ]
     },
     "execution_count": 4,
     "metadata": {},
     "output_type": "execute_result"
    }
   ],
   "source": [
    "import math as m\n",
    "m.ceil(6.5)"
   ]
  },
  {
   "cell_type": "code",
   "execution_count": 6,
   "id": "0e222e2b-977a-4c1f-8645-9a1cf78e7f15",
   "metadata": {},
   "outputs": [
    {
     "data": {
      "text/plain": [
       "3"
      ]
     },
     "execution_count": 6,
     "metadata": {},
     "output_type": "execute_result"
    }
   ],
   "source": [
    "m.floor(3.5)"
   ]
  },
  {
   "cell_type": "code",
   "execution_count": 8,
   "id": "53bc51cb-236d-404d-be17-705963ea6347",
   "metadata": {},
   "outputs": [
    {
     "data": {
      "text/plain": [
       "{'a': 2, 'b': 3, 'c': 6, 'd': [1, 23]}"
      ]
     },
     "execution_count": 8,
     "metadata": {},
     "output_type": "execute_result"
    }
   ],
   "source": [
    "# It should accept any no of argument\n",
    "# treated as key value pair\n",
    "\n",
    "def kwarg_func(**kwargs):\n",
    "    return kwargs\n",
    "\n",
    "kwarg_func(a=2, b=3, c=6, d=[1,23])  #any argument passed is converted into a dictionary with keys and values."
   ]
  },
  {
   "cell_type": "code",
   "execution_count": 3,
   "id": "c793814e-5125-425c-89ba-6c08710563cd",
   "metadata": {},
   "outputs": [
    {
     "data": {
      "text/plain": [
       "[0, 1, 1, 2, 3, 5, 8, 13, 21, 34]"
      ]
     },
     "execution_count": 3,
     "metadata": {},
     "output_type": "execute_result"
    }
   ],
   "source": [
    "# fibonacci series using lambda function\n",
    "fib = lambda n: n if n <= 1 else fib(n-1) + fib(n-2)\n",
    "[fib(i) for i in range(10)]"
   ]
  },
  {
   "cell_type": "code",
   "execution_count": 2,
   "id": "2ce7f9b8-80a2-44b1-8f10-1a76d5eb0ae3",
   "metadata": {},
   "outputs": [
    {
     "data": {
      "text/plain": [
       "120"
      ]
     },
     "execution_count": 2,
     "metadata": {},
     "output_type": "execute_result"
    }
   ],
   "source": [
    "#factorial of a number using lambda function\n",
    "fact_num = lambda n : 1 if n == 0 else n * fact_num(n-1)\n",
    "fact_num(5)"
   ]
  },
  {
   "cell_type": "code",
   "execution_count": 4,
   "id": "d8d22f6b-b36e-4953-8b66-14a4644a0e10",
   "metadata": {},
   "outputs": [],
   "source": [
    "l = [1,2,3,4,5]\n",
    "def sq(x):\n",
    "    return x**2"
   ]
  },
  {
   "cell_type": "code",
   "execution_count": 6,
   "id": "2672a9ff-a4e9-4d49-a441-1682eeb2da51",
   "metadata": {},
   "outputs": [
    {
     "data": {
      "text/plain": [
       "<map at 0x20b6eef6890>"
      ]
     },
     "execution_count": 6,
     "metadata": {},
     "output_type": "execute_result"
    }
   ],
   "source": [
    "map(sq, l) #returns map object. map func is applying each of the user def func sq on each of the iterables of l"
   ]
  },
  {
   "cell_type": "code",
   "execution_count": 8,
   "id": "5252a020-66cc-488a-898b-3c5a06a6c014",
   "metadata": {},
   "outputs": [
    {
     "data": {
      "text/plain": [
       "[1, 4, 9, 16, 25]"
      ]
     },
     "execution_count": 8,
     "metadata": {},
     "output_type": "execute_result"
    }
   ],
   "source": [
    "list(map(sq, l)) #returns list values. map is mapping each of the iterable with the function"
   ]
  },
  {
   "cell_type": "code",
   "execution_count": 10,
   "id": "a70b6914-fe06-4f88-b7ac-aea9abf47ad9",
   "metadata": {},
   "outputs": [
    {
     "data": {
      "text/plain": [
       "[1, 4, 9, 16, 25]"
      ]
     },
     "execution_count": 10,
     "metadata": {},
     "output_type": "execute_result"
    }
   ],
   "source": [
    "# same can be done along with lambda as well\n",
    "list(map(lambda x: x**2, l))"
   ]
  },
  {
   "cell_type": "code",
   "execution_count": 12,
   "id": "646664e3-b8b2-4b06-a291-d7f0d616fe15",
   "metadata": {},
   "outputs": [
    {
     "data": {
      "text/plain": [
       "21"
      ]
     },
     "execution_count": 12,
     "metadata": {},
     "output_type": "execute_result"
    }
   ],
   "source": [
    "from functools import reduce\n",
    "l = [1,2,3,4,5,6]\n",
    "reduce(lambda x,y: x+y, l)"
   ]
  },
  {
   "cell_type": "code",
   "execution_count": 14,
   "id": "002d1ed3-4d46-4a1d-8260-501f72af05bf",
   "metadata": {},
   "outputs": [
    {
     "data": {
      "text/plain": [
       "3000"
      ]
     },
     "execution_count": 14,
     "metadata": {},
     "output_type": "execute_result"
    }
   ],
   "source": [
    "# to find largest number using reduce function\n",
    "numbers = [1, 20, 5, 45 ,200, 3000]\n",
    "reduce(lambda x,y : x if x>y else y , numbers)"
   ]
  },
  {
   "cell_type": "code",
   "execution_count": 16,
   "id": "f866d6eb-ea39-4e9c-b2a1-9c48d06b047e",
   "metadata": {},
   "outputs": [
    {
     "data": {
      "text/plain": [
       "<filter at 0x20b702b9780>"
      ]
     },
     "execution_count": 16,
     "metadata": {},
     "output_type": "execute_result"
    }
   ],
   "source": [
    "l = [1,2,3,4,5,6]\n",
    "filter(lambda x : x%2 == 0 , l)\n",
    "# returns filter object"
   ]
  },
  {
   "cell_type": "code",
   "execution_count": 18,
   "id": "3873cd7c-936c-4e5a-8588-358a8fad03d2",
   "metadata": {},
   "outputs": [
    {
     "data": {
      "text/plain": [
       "[2, 4, 6]"
      ]
     },
     "execution_count": 18,
     "metadata": {},
     "output_type": "execute_result"
    }
   ],
   "source": [
    "list(filter(lambda x : x%2 == 0 , l))"
   ]
  },
  {
   "cell_type": "code",
   "execution_count": null,
   "id": "95529ea6-593a-4a3f-9333-ab738c1d06d7",
   "metadata": {},
   "outputs": [],
   "source": [
    "# iterator in python is an object that is used to iterate over iterable objects\n",
    "# iterable is an object which can be iterated \n",
    "# list, tuple , dict , string, sets are all iterable \n",
    "\n",
    "# to check if an object is iterable or not\n",
    "s = \"string\"\n",
    "iter(s)"
   ]
  },
  {
   "cell_type": "code",
   "execution_count": 5,
   "id": "0b022293-fa91-474c-851c-ddba1540d9e3",
   "metadata": {},
   "outputs": [],
   "source": [
    "# generator functions\n",
    "# It is a type of function which does not return a single value , instead returns an \n",
    "# iterator object with sequence of values"
   ]
  },
  {
   "cell_type": "code",
   "execution_count": 9,
   "id": "a250bfb8-c8f6-4004-8247-4009b9832c92",
   "metadata": {},
   "outputs": [
    {
     "data": {
      "text/plain": [
       "[0, 1, 4, 9, 16]"
      ]
     },
     "execution_count": 9,
     "metadata": {},
     "output_type": "execute_result"
    }
   ],
   "source": [
    "# Regular Function\n",
    "def sq_numbers(n):\n",
    "    result = []\n",
    "    for i in range(n):\n",
    "        result.append(i**2)\n",
    "    return result\n",
    "sq_numbers(5)"
   ]
  },
  {
   "cell_type": "code",
   "execution_count": 11,
   "id": "4bc5eebd-bb6c-4a81-8907-5440dc467bf9",
   "metadata": {},
   "outputs": [],
   "source": [
    "# Generator Function\n",
    "def sq_numbers_generator(n):\n",
    "    for i in range(n):\n",
    "        yield i ** 2"
   ]
  },
  {
   "cell_type": "code",
   "execution_count": 17,
   "id": "43fccb6b-8370-4dfc-a589-88176680a441",
   "metadata": {},
   "outputs": [],
   "source": [
    "gen = sq_numbers_generator(5)"
   ]
  },
  {
   "cell_type": "code",
   "execution_count": 19,
   "id": "4bd50fc0-bb23-475e-ba6c-e8a861bec3fb",
   "metadata": {},
   "outputs": [
    {
     "data": {
      "text/plain": [
       "0"
      ]
     },
     "execution_count": 19,
     "metadata": {},
     "output_type": "execute_result"
    }
   ],
   "source": [
    "next(gen)"
   ]
  },
  {
   "cell_type": "code",
   "execution_count": 21,
   "id": "d1f1ff87-ad97-471b-a96f-8481947033c5",
   "metadata": {},
   "outputs": [
    {
     "data": {
      "text/plain": [
       "1"
      ]
     },
     "execution_count": 21,
     "metadata": {},
     "output_type": "execute_result"
    }
   ],
   "source": [
    "next(gen)"
   ]
  },
  {
   "cell_type": "code",
   "execution_count": 23,
   "id": "f1caa26a-c681-48f9-ad8c-108abea96b32",
   "metadata": {},
   "outputs": [
    {
     "data": {
      "text/plain": [
       "4"
      ]
     },
     "execution_count": 23,
     "metadata": {},
     "output_type": "execute_result"
    }
   ],
   "source": [
    "next(gen)"
   ]
  },
  {
   "cell_type": "code",
   "execution_count": 25,
   "id": "bde30892-28cd-49fd-96b4-fd34a5c34e77",
   "metadata": {},
   "outputs": [
    {
     "data": {
      "text/plain": [
       "9"
      ]
     },
     "execution_count": 25,
     "metadata": {},
     "output_type": "execute_result"
    }
   ],
   "source": [
    "next(gen)"
   ]
  },
  {
   "cell_type": "code",
   "execution_count": 27,
   "id": "b19b62dc-25d3-4725-9e05-b3ad1b483c75",
   "metadata": {},
   "outputs": [
    {
     "data": {
      "text/plain": [
       "16"
      ]
     },
     "execution_count": 27,
     "metadata": {},
     "output_type": "execute_result"
    }
   ],
   "source": [
    "next(gen)"
   ]
  },
  {
   "cell_type": "code",
   "execution_count": 29,
   "id": "3e436fe9-6ec6-4877-8d1a-bb3aecc0351f",
   "metadata": {},
   "outputs": [
    {
     "ename": "StopIteration",
     "evalue": "",
     "output_type": "error",
     "traceback": [
      "\u001b[1;31m---------------------------------------------------------------------------\u001b[0m",
      "\u001b[1;31mStopIteration\u001b[0m                             Traceback (most recent call last)",
      "Cell \u001b[1;32mIn[29], line 1\u001b[0m\n\u001b[1;32m----> 1\u001b[0m \u001b[38;5;28mnext\u001b[39m(gen)\n",
      "\u001b[1;31mStopIteration\u001b[0m: "
     ]
    }
   ],
   "source": [
    "next(gen)"
   ]
  },
  {
   "cell_type": "code",
   "execution_count": 2,
   "id": "a684a1df-8612-4647-8386-5e7036997e2a",
   "metadata": {},
   "outputs": [],
   "source": [
    "# fibonacci series using generator function\n",
    "def fib(n):\n",
    "    a = 0\n",
    "    b = 1\n",
    "    for i in range(n):\n",
    "        yield a\n",
    "        a,b = b,a+b"
   ]
  },
  {
   "cell_type": "code",
   "execution_count": 10,
   "id": "5705ba45-9363-4233-bd95-9936628abb9d",
   "metadata": {},
   "outputs": [],
   "source": [
    "f = fib(100)"
   ]
  },
  {
   "cell_type": "code",
   "execution_count": 12,
   "id": "a6d095d8-a85f-4f19-a5b7-585e7679a96b",
   "metadata": {},
   "outputs": [
    {
     "data": {
      "text/plain": [
       "0"
      ]
     },
     "execution_count": 12,
     "metadata": {},
     "output_type": "execute_result"
    }
   ],
   "source": [
    "next(f)"
   ]
  },
  {
   "cell_type": "code",
   "execution_count": 14,
   "id": "8c918a27-bf2e-481b-b66a-a6676bd99692",
   "metadata": {},
   "outputs": [
    {
     "data": {
      "text/plain": [
       "1"
      ]
     },
     "execution_count": 14,
     "metadata": {},
     "output_type": "execute_result"
    }
   ],
   "source": [
    "next(f)"
   ]
  },
  {
   "cell_type": "code",
   "execution_count": 1,
   "id": "5c20a543-df42-4252-8eb4-b2db56ee186c",
   "metadata": {},
   "outputs": [],
   "source": [
    "# OOPS >> OBJECT ORIENTED PROGRAMMING SYSTEM <<\n",
    "# oops helps to make code more concise,readable and maintainable\n",
    "\n",
    "class Car: # naming convention >> class should be written starting with uppercase.\n",
    "    pass"
   ]
  },
  {
   "cell_type": "code",
   "execution_count": 3,
   "id": "a89bbc03-c209-4dd6-a050-e1fc102cedbb",
   "metadata": {},
   "outputs": [],
   "source": [
    "a = Car() # instance,object, variable of class"
   ]
  },
  {
   "cell_type": "code",
   "execution_count": 5,
   "id": "ed2c61a8-d355-4d24-9493-852b6c811d69",
   "metadata": {},
   "outputs": [
    {
     "name": "stdout",
     "output_type": "stream",
     "text": [
      "<class '__main__.Car'>\n"
     ]
    }
   ],
   "source": [
    "print(type(a))"
   ]
  },
  {
   "cell_type": "code",
   "execution_count": 17,
   "id": "8df99dc9-2394-4ab6-9758-7e14d2e4b1b4",
   "metadata": {},
   "outputs": [],
   "source": [
    "class Car:\n",
    "    speed = 100 # instance\n",
    "    def accelerate(self): # function/ Method\n",
    "        print(\"car is accelerating\")"
   ]
  },
  {
   "cell_type": "code",
   "execution_count": 21,
   "id": "794a9efb-a4f4-40ba-a28a-def374683aec",
   "metadata": {},
   "outputs": [],
   "source": [
    "a = Car() # object of class car"
   ]
  },
  {
   "cell_type": "code",
   "execution_count": 11,
   "id": "ff072bcd-b923-498d-a6b5-027057f74da1",
   "metadata": {},
   "outputs": [
    {
     "name": "stdout",
     "output_type": "stream",
     "text": [
      "car is accelerating\n"
     ]
    }
   ],
   "source": [
    "a.accelerate() # method inside class is being accessed "
   ]
  },
  {
   "cell_type": "code",
   "execution_count": 23,
   "id": "358df7da-a5b5-4f9f-8100-0d16a179a4a3",
   "metadata": {},
   "outputs": [
    {
     "data": {
      "text/plain": [
       "100"
      ]
     },
     "execution_count": 23,
     "metadata": {},
     "output_type": "execute_result"
    }
   ],
   "source": [
    "a.speed  # variable inside class is being accessed"
   ]
  },
  {
   "cell_type": "code",
   "execution_count": 35,
   "id": "30030b03-02a0-4ac7-8f57-fd490aa36165",
   "metadata": {},
   "outputs": [],
   "source": [
    "class listops:\n",
    "    def __init__(self,l):\n",
    "        self.l = l\n",
    "    def extract_even(self):\n",
    "        l = self.l\n",
    "        l1 = []\n",
    "        for i in l:\n",
    "            if i % 2 == 0:\n",
    "                l1.append(i)\n",
    "        return l1\n",
    "        \n",
    "    def extract_odd(self):\n",
    "        l = self.l\n",
    "        l1 = []\n",
    "        for i in l:\n",
    "            if i % 2 != 0:\n",
    "                l1.append(i)\n",
    "        return l1"
   ]
  },
  {
   "cell_type": "code",
   "execution_count": 37,
   "id": "d978bf41-61fa-4981-8c6b-5e9627527ce1",
   "metadata": {},
   "outputs": [],
   "source": [
    "obj = listops([1,2,3,4,5])"
   ]
  },
  {
   "cell_type": "code",
   "execution_count": 41,
   "id": "3f04dc6b-b7c6-433c-8e34-c3ec9e5621a1",
   "metadata": {},
   "outputs": [
    {
     "data": {
      "text/plain": [
       "[2, 4]"
      ]
     },
     "execution_count": 41,
     "metadata": {},
     "output_type": "execute_result"
    }
   ],
   "source": [
    "obj.extract_even()"
   ]
  },
  {
   "cell_type": "code",
   "execution_count": 43,
   "id": "77a2822f-4fb0-45ec-af87-b9074a7511c0",
   "metadata": {},
   "outputs": [],
   "source": [
    "obj1 = listops([1,2,4,5,8,10])"
   ]
  },
  {
   "cell_type": "code",
   "execution_count": 45,
   "id": "32be3390-db0e-4288-810e-2aadeee33d8a",
   "metadata": {},
   "outputs": [
    {
     "data": {
      "text/plain": [
       "[1, 5]"
      ]
     },
     "execution_count": 45,
     "metadata": {},
     "output_type": "execute_result"
    }
   ],
   "source": [
    "obj1.extract_odd()"
   ]
  },
  {
   "cell_type": "code",
   "execution_count": 47,
   "id": "e11e83e1-9556-4412-8cfe-0bb0bd34dc64",
   "metadata": {},
   "outputs": [
    {
     "data": {
      "text/plain": [
       "[2, 4, 8, 10]"
      ]
     },
     "execution_count": 47,
     "metadata": {},
     "output_type": "execute_result"
    }
   ],
   "source": [
    "obj1.extract_even()"
   ]
  },
  {
   "cell_type": "code",
   "execution_count": 61,
   "id": "d0f0b4f3-0a7f-4901-9dbe-a316a4cde6aa",
   "metadata": {},
   "outputs": [],
   "source": [
    "class Book:\n",
    "    def __init__(self,name,author,title):\n",
    "        self.name = name\n",
    "        self.author = author\n",
    "        self.title = title\n",
    "        \n",
    "    def book_name_author_name(self):\n",
    "        print(\"Name of the book is\",self.name, \"and It is written by\",self.author)\n",
    "\n",
    "    def book_name_title(self):\n",
    "        print(\"Name of the book is\",self.name, \"and the topic is\",self.title)"
   ]
  },
  {
   "cell_type": "code",
   "execution_count": 63,
   "id": "ae4791f0-2df0-4d42-a32b-75dcddbf71ec",
   "metadata": {},
   "outputs": [],
   "source": [
    "student1 = Book(\"Machine learning\",\"Geoferry Hilton\",\"Regression\")"
   ]
  },
  {
   "cell_type": "code",
   "execution_count": 65,
   "id": "5cc4379f-b11d-45b3-a6f3-f153ff54b98f",
   "metadata": {},
   "outputs": [
    {
     "name": "stdout",
     "output_type": "stream",
     "text": [
      "Name of the book is Machine learning and It is written by Geoferry Hilton\n"
     ]
    }
   ],
   "source": [
    "student1.book_name_author_name()"
   ]
  },
  {
   "cell_type": "code",
   "execution_count": 67,
   "id": "4df30ed9-7615-4e77-a1b5-222a43be5858",
   "metadata": {},
   "outputs": [
    {
     "name": "stdout",
     "output_type": "stream",
     "text": [
      "Name of the book is Machine learning and the topic is Regression\n"
     ]
    }
   ],
   "source": [
    "student1.book_name_title()"
   ]
  },
  {
   "cell_type": "code",
   "execution_count": 4,
   "id": "a83e0c41-4cd3-484d-86de-7220608a14e6",
   "metadata": {},
   "outputs": [],
   "source": [
    "# INHERITANCE :  refers to process of child class recieving the properties of parent class\n",
    "\n",
    "#syntax\n",
    "# class BaseClass: #  parent class\n",
    "#     # body of base class\n",
    "# class DerivedClass(BaseClass): #  child class\n",
    "#     # body of derived class "
   ]
  },
  {
   "cell_type": "code",
   "execution_count": 6,
   "id": "a4230654-a67f-4559-a133-56d691b93223",
   "metadata": {},
   "outputs": [],
   "source": [
    "# SINGLE LEVEL INHERITANCE\n",
    "# parent class will not have access to the property of child class but child class will have access to both.\n",
    "class Fruit:\n",
    "    def fruit_info(self):\n",
    "        print(\"Inside parent class\")\n",
    "class Apple(Fruit):\n",
    "    def apple_info(self):\n",
    "        print(\"Inside child class\")"
   ]
  },
  {
   "cell_type": "code",
   "execution_count": 8,
   "id": "e5a3f2ca-725c-4cb4-8e84-37a4b22c500b",
   "metadata": {},
   "outputs": [],
   "source": [
    "obj = Apple()"
   ]
  },
  {
   "cell_type": "code",
   "execution_count": 10,
   "id": "11527b09-2c8d-4766-89d5-b90107c28454",
   "metadata": {},
   "outputs": [
    {
     "name": "stdout",
     "output_type": "stream",
     "text": [
      "Inside child class\n"
     ]
    }
   ],
   "source": [
    "obj.apple_info()"
   ]
  },
  {
   "cell_type": "code",
   "execution_count": 12,
   "id": "b3e9d81d-7d5a-40bb-9be7-aff8a28ef8bb",
   "metadata": {},
   "outputs": [
    {
     "name": "stdout",
     "output_type": "stream",
     "text": [
      "Inside parent class\n"
     ]
    }
   ],
   "source": [
    "obj.fruit_info()"
   ]
  },
  {
   "cell_type": "code",
   "execution_count": 14,
   "id": "53003e66-e272-4aee-8ea6-952c3e596f05",
   "metadata": {},
   "outputs": [],
   "source": [
    "class Fruit:\n",
    "    def fruit_info(self):\n",
    "        print(\"Inside parent class\")\n",
    "class Apple(Fruit):\n",
    "    def fruit_info(self):\n",
    "        print(\"Inside child class\")\n",
    "    def apple_info(self):\n",
    "        print(\"Inside child class\")"
   ]
  },
  {
   "cell_type": "code",
   "execution_count": 16,
   "id": "89853c45-de09-4ce0-b50e-09c2c01e8753",
   "metadata": {},
   "outputs": [],
   "source": [
    "obj = Apple()"
   ]
  },
  {
   "cell_type": "code",
   "execution_count": 18,
   "id": "4b2f4565-e3d8-49f1-bc65-890b70590c77",
   "metadata": {},
   "outputs": [
    {
     "name": "stdout",
     "output_type": "stream",
     "text": [
      "Inside child class\n"
     ]
    }
   ],
   "source": [
    "obj.fruit_info() # method overriding >> child class is very powerful\n",
    "# fruit_info was there in both parent class and child class but child class is displayed."
   ]
  },
  {
   "cell_type": "code",
   "execution_count": 48,
   "id": "07c4aa45-0426-48a0-bb89-8b5a021d624f",
   "metadata": {},
   "outputs": [],
   "source": [
    "# MULTIPLE INHERITANCE\n",
    "class Parent1:\n",
    "    def parent1(self):\n",
    "        print(\"This is parent1 of child\")\n",
    "class Parent2:\n",
    "    def parent2(self):\n",
    "        print(\"This is parent2 of child\")\n",
    "class Child(Parent1,Parent2):  ## child inherits both parent class.\n",
    "    def child(self):\n",
    "        print(\"This is child of parent1 and parent2\")\n"
   ]
  },
  {
   "cell_type": "code",
   "execution_count": 50,
   "id": "e8e0eab9-cad9-4cf7-9dac-f41da7915005",
   "metadata": {},
   "outputs": [],
   "source": [
    "obj = Child()"
   ]
  },
  {
   "cell_type": "code",
   "execution_count": 52,
   "id": "4833990c-ccb2-4830-b95c-59605e21b42b",
   "metadata": {},
   "outputs": [
    {
     "name": "stdout",
     "output_type": "stream",
     "text": [
      "This is parent1 of child\n"
     ]
    }
   ],
   "source": [
    "obj.parent1()"
   ]
  },
  {
   "cell_type": "code",
   "execution_count": 54,
   "id": "8d54cc74-eae9-4871-b413-e34d23abb935",
   "metadata": {},
   "outputs": [
    {
     "name": "stdout",
     "output_type": "stream",
     "text": [
      "This is parent2 of child\n"
     ]
    }
   ],
   "source": [
    "obj.parent2()"
   ]
  },
  {
   "cell_type": "code",
   "execution_count": 1,
   "id": "c9589d73-4a35-4767-bb47-2738963c4fb8",
   "metadata": {},
   "outputs": [],
   "source": [
    "# ABSTRACTION >> concept of hiding complex implementation\n",
    "# only showing the necessary features and interface to the outside world"
   ]
  },
  {
   "cell_type": "code",
   "execution_count": 3,
   "id": "74dc0a0f-a595-4027-82fd-8ccfa3feadf0",
   "metadata": {},
   "outputs": [],
   "source": [
    "# SYNTAX  of abstraction\n",
    "import abc"
   ]
  },
  {
   "cell_type": "code",
   "execution_count": 7,
   "id": "6dbdc288-9c04-434b-ae8f-14a5d0bce2f4",
   "metadata": {},
   "outputs": [],
   "source": [
    "# skeleton \n",
    "class Shape:\n",
    "    @abc.abstractmethod\n",
    "    def area(self):\n",
    "        pass"
   ]
  },
  {
   "cell_type": "code",
   "execution_count": 19,
   "id": "7d4f7942-9831-4a5d-a725-8faa64ce3e03",
   "metadata": {},
   "outputs": [],
   "source": [
    "class Rectangle(Shape):\n",
    "    def area(self):\n",
    "        return \"Area of rectangle is l * b\"\n",
    "class Circle(Shape):\n",
    "    def area(self):\n",
    "        return \"Area of circle is pi * r**2\""
   ]
  },
  {
   "cell_type": "code",
   "execution_count": 11,
   "id": "58169313-e4d5-410f-a342-1b266d4d43e9",
   "metadata": {},
   "outputs": [],
   "source": [
    "rect = Rectangle()"
   ]
  },
  {
   "cell_type": "code",
   "execution_count": 13,
   "id": "0a65cdc4-7abb-4507-84da-715cf58c043f",
   "metadata": {},
   "outputs": [
    {
     "data": {
      "text/plain": [
       "'Area of rectangle is l * b'"
      ]
     },
     "execution_count": 13,
     "metadata": {},
     "output_type": "execute_result"
    }
   ],
   "source": [
    "rect.area()"
   ]
  },
  {
   "cell_type": "code",
   "execution_count": 21,
   "id": "b2e17d2a-04d8-4dc4-b8a9-38586e90f586",
   "metadata": {},
   "outputs": [],
   "source": [
    "c = Circle()"
   ]
  },
  {
   "cell_type": "code",
   "execution_count": 23,
   "id": "63a3cc33-2910-4064-ac46-a03b46716142",
   "metadata": {},
   "outputs": [
    {
     "data": {
      "text/plain": [
       "'Area of circle is pi * r**2'"
      ]
     },
     "execution_count": 23,
     "metadata": {},
     "output_type": "execute_result"
    }
   ],
   "source": [
    "c.area()"
   ]
  },
  {
   "cell_type": "code",
   "execution_count": 25,
   "id": "4cd7bca2-1dab-48b1-9c71-becd3c1fbf26",
   "metadata": {},
   "outputs": [],
   "source": [
    "# POLYMORPHISM >> Refers to an oject taking several forms depending on data\n",
    "# poly means many, morphism means forms/states\n",
    "\n",
    "class teacher_lecture:\n",
    "    def lec_info(self):\n",
    "        print(\"this is lec info with teacher perspective\")"
   ]
  },
  {
   "cell_type": "code",
   "execution_count": 27,
   "id": "4fde3c19-b643-4fa0-87bc-91b2b3d23c94",
   "metadata": {},
   "outputs": [],
   "source": [
    "class student_lecture:\n",
    "    def lec_info(self):\n",
    "        print(\"this is lec info with student perspective\")"
   ]
  },
  {
   "cell_type": "code",
   "execution_count": 29,
   "id": "07b4ce42-b991-4129-bc4f-8e412110195d",
   "metadata": {},
   "outputs": [],
   "source": [
    "def parcer(class_obj):\n",
    "    for i in class_obj:\n",
    "        i.lec_info()  # calling lec_info method\n",
    "obj1 = teacher_lecture()\n",
    "obj2 = student_lecture()\n",
    "class_obj = [obj1,obj2]"
   ]
  },
  {
   "cell_type": "code",
   "execution_count": 31,
   "id": "39a368ad-c525-4c62-864b-1790f7769aef",
   "metadata": {},
   "outputs": [
    {
     "name": "stdout",
     "output_type": "stream",
     "text": [
      "this is lec info with teacher perspective\n",
      "this is lec info with student perspective\n"
     ]
    }
   ],
   "source": [
    "parcer(class_obj) # method is same but it is taking 2 different forms"
   ]
  },
  {
   "cell_type": "code",
   "execution_count": 33,
   "id": "0b42fef4-85b6-4c71-acfc-a57dbacc489a",
   "metadata": {},
   "outputs": [],
   "source": [
    "# Polymorphism >> Method overloading : last method overwrites previous ones\n",
    "# Overloading typically involves defining multiple functions or operators \n",
    "# with the same name but different parameters or behaviors\n",
    "class student:\n",
    "    def student(self,name=\"\", course=\"\"):\n",
    "        print(\"Welcome to the class\",name,course)"
   ]
  },
  {
   "cell_type": "code",
   "execution_count": 35,
   "id": "21224e2e-6fc2-4495-896f-26d39dbe1eb9",
   "metadata": {},
   "outputs": [],
   "source": [
    "stu = student()"
   ]
  },
  {
   "cell_type": "code",
   "execution_count": 37,
   "id": "230afad1-c60a-43fe-95ac-faca4d93c15d",
   "metadata": {},
   "outputs": [
    {
     "name": "stdout",
     "output_type": "stream",
     "text": [
      "Welcome to the class  \n"
     ]
    }
   ],
   "source": [
    "stu.student()"
   ]
  },
  {
   "cell_type": "code",
   "execution_count": 39,
   "id": "4a57a036-4178-4501-8195-972a43f0bcc3",
   "metadata": {},
   "outputs": [
    {
     "name": "stdout",
     "output_type": "stream",
     "text": [
      "Welcome to the class john \n"
     ]
    }
   ],
   "source": [
    "stu.student(\"john\") # No need to define method for this as it will be overwritten."
   ]
  },
  {
   "cell_type": "code",
   "execution_count": 41,
   "id": "5a74f35a-1581-495f-96a8-e8ed371f5ea2",
   "metadata": {},
   "outputs": [
    {
     "name": "stdout",
     "output_type": "stream",
     "text": [
      "Welcome to the class John DA\n"
     ]
    }
   ],
   "source": [
    "stu.student(\"John\",\"DA\") # No need to define method for this as it will be overwritten."
   ]
  },
  {
   "cell_type": "code",
   "execution_count": 43,
   "id": "c7a7b1bd-d7e9-4a49-9ff9-0d8d1f39b1ef",
   "metadata": {},
   "outputs": [],
   "source": [
    "# Polymorphism >>  Method Overriding: \n",
    "#Method in parent class and child class with the same signature,then the child class method will be executed           "
   ]
  },
  {
   "cell_type": "code",
   "execution_count": 45,
   "id": "ba340f0d-4728-4b91-b1f0-dfb259325af5",
   "metadata": {},
   "outputs": [],
   "source": [
    "# ENCAPSULATION >> Bundling of data and methods\n",
    "# access modifier >> public, proctected, private"
   ]
  },
  {
   "cell_type": "code",
   "execution_count": 47,
   "id": "c5f93cdc-203d-4e9b-b940-9c2ed7e01d5f",
   "metadata": {},
   "outputs": [],
   "source": [
    "# Private :only accessible within the class\n",
    "class Student:\n",
    "    def __init__(self,name,degree):\n",
    "        self.name = name\n",
    "        self.__degree = degree # use two __ to make private variable"
   ]
  },
  {
   "cell_type": "code",
   "execution_count": 51,
   "id": "04a7fa21-d775-4a56-aab0-600d312fa570",
   "metadata": {},
   "outputs": [],
   "source": [
    "stu = Student(\"John\",\"Masters\")"
   ]
  },
  {
   "cell_type": "code",
   "execution_count": 53,
   "id": "d05007a9-9d2b-454b-b5bb-aa3db6f50b0e",
   "metadata": {},
   "outputs": [
    {
     "data": {
      "text/plain": [
       "'John'"
      ]
     },
     "execution_count": 53,
     "metadata": {},
     "output_type": "execute_result"
    }
   ],
   "source": [
    "stu.name"
   ]
  },
  {
   "cell_type": "code",
   "execution_count": 55,
   "id": "7e8d970a-a1ac-4695-8c1c-9a91b927ffd6",
   "metadata": {},
   "outputs": [
    {
     "ename": "AttributeError",
     "evalue": "'Student' object has no attribute 'degree'",
     "output_type": "error",
     "traceback": [
      "\u001b[1;31m---------------------------------------------------------------------------\u001b[0m",
      "\u001b[1;31mAttributeError\u001b[0m                            Traceback (most recent call last)",
      "Cell \u001b[1;32mIn[55], line 1\u001b[0m\n\u001b[1;32m----> 1\u001b[0m stu\u001b[38;5;241m.\u001b[39mdegree\n",
      "\u001b[1;31mAttributeError\u001b[0m: 'Student' object has no attribute 'degree'"
     ]
    }
   ],
   "source": [
    "stu.degree #cannot be accessed or modified as it is a provate variable"
   ]
  },
  {
   "cell_type": "code",
   "execution_count": 57,
   "id": "0b9dd783-28c7-48a0-bc3b-4a1ea142d499",
   "metadata": {},
   "outputs": [
    {
     "data": {
      "text/plain": [
       "'Masters'"
      ]
     },
     "execution_count": 57,
     "metadata": {},
     "output_type": "execute_result"
    }
   ],
   "source": [
    "stu._Student__degree # To access private variable"
   ]
  },
  {
   "cell_type": "code",
   "execution_count": 59,
   "id": "883c5a1a-417c-4282-94c4-ef725f2885f8",
   "metadata": {},
   "outputs": [],
   "source": [
    "class Student:\n",
    "    def __init__(self,name,degree):\n",
    "        self.name = name\n",
    "        self.__degree = degree\n",
    "    def show(self): # To show private variables\n",
    "        print(\"name\",self.name,\"degree\",self.__degree)"
   ]
  },
  {
   "cell_type": "code",
   "execution_count": 67,
   "id": "cb70c9ae-0933-4cee-8880-4a0081753280",
   "metadata": {},
   "outputs": [],
   "source": [
    "stu = Student(\"john\",\"masters\")"
   ]
  },
  {
   "cell_type": "code",
   "execution_count": 69,
   "id": "c1324520-f00d-4f72-b571-54e75b0910b3",
   "metadata": {},
   "outputs": [
    {
     "name": "stdout",
     "output_type": "stream",
     "text": [
      "name john degree masters\n"
     ]
    }
   ],
   "source": [
    "stu.show()"
   ]
  },
  {
   "cell_type": "code",
   "execution_count": 85,
   "id": "09d532b2-3516-45cc-9b3c-ff4344bcb4bf",
   "metadata": {},
   "outputs": [],
   "source": [
    "class Bank:\n",
    "    def __init__(self,balance):\n",
    "        self.__balance = balance\n",
    "        \n",
    "    def deposit(self,amount):\n",
    "        self.__balance += amount\n",
    "        \n",
    "    def withdraw(self,amount):\n",
    "        if self.__balance >= amount:\n",
    "            self.__balance -= amount\n",
    "        else:\n",
    "            return \"Insufficient Account Balance\"\n",
    "\n",
    "    def get_balance(self):\n",
    "        return self.__balance\n",
    "    "
   ]
  },
  {
   "cell_type": "code",
   "execution_count": 87,
   "id": "99201c1e-d38a-45d3-b127-7a9131772a84",
   "metadata": {},
   "outputs": [],
   "source": [
    "acc = Bank(1000)"
   ]
  },
  {
   "cell_type": "code",
   "execution_count": 91,
   "id": "5051dcc1-d56a-4502-942f-04c55189ecc8",
   "metadata": {},
   "outputs": [
    {
     "data": {
      "text/plain": [
       "1000"
      ]
     },
     "execution_count": 91,
     "metadata": {},
     "output_type": "execute_result"
    }
   ],
   "source": [
    "acc.get_balance()"
   ]
  },
  {
   "cell_type": "code",
   "execution_count": 99,
   "id": "e6b801c3-ebe4-4b9d-a5d0-3b67daed6176",
   "metadata": {},
   "outputs": [],
   "source": [
    "acc.deposit(500)"
   ]
  },
  {
   "cell_type": "code",
   "execution_count": 101,
   "id": "8d5b4769-e93b-413b-bd87-3e93e5ddc96e",
   "metadata": {},
   "outputs": [
    {
     "data": {
      "text/plain": [
       "2500"
      ]
     },
     "execution_count": 101,
     "metadata": {},
     "output_type": "execute_result"
    }
   ],
   "source": [
    "acc.get_balance()"
   ]
  },
  {
   "cell_type": "code",
   "execution_count": 103,
   "id": "d7b61bba-d5fa-4491-8b62-5053892a733f",
   "metadata": {},
   "outputs": [],
   "source": [
    "acc.withdraw(1500)"
   ]
  },
  {
   "cell_type": "code",
   "execution_count": 105,
   "id": "e00d800e-890e-4760-ae73-ab85a56473f6",
   "metadata": {},
   "outputs": [
    {
     "data": {
      "text/plain": [
       "1000"
      ]
     },
     "execution_count": 105,
     "metadata": {},
     "output_type": "execute_result"
    }
   ],
   "source": [
    "acc.get_balance()"
   ]
  },
  {
   "cell_type": "code",
   "execution_count": 107,
   "id": "9bbe16bb-cfab-40e5-bb6b-2477753fc268",
   "metadata": {},
   "outputs": [
    {
     "data": {
      "text/plain": [
       "'Insufficient Account Balance'"
      ]
     },
     "execution_count": 107,
     "metadata": {},
     "output_type": "execute_result"
    }
   ],
   "source": [
    "acc.withdraw(1100)"
   ]
  },
  {
   "cell_type": "code",
   "execution_count": 117,
   "id": "f8d4ee4d-ccca-498e-9c8a-2705dec62e1d",
   "metadata": {},
   "outputs": [],
   "source": [
    "# Protected access modifier >> can be used within the class and its sub class, ( _ )\n",
    "class College:\n",
    "    def __init__(self):\n",
    "        self._college_name = \"IIT\"\n",
    "\n",
    "class Student(College):\n",
    "    def __init__(self,name):\n",
    "        self.name = name\n",
    "        super().__init__() # protected variable accessed by subclass\n",
    "\n",
    "    def show(self):\n",
    "        print('name',self.name,'college',self._college_name)"
   ]
  },
  {
   "cell_type": "code",
   "execution_count": 119,
   "id": "bd33e6ee-ccd9-44fe-809d-f5e888e8e3da",
   "metadata": {},
   "outputs": [],
   "source": [
    "stu = Student(\"John\")"
   ]
  },
  {
   "cell_type": "code",
   "execution_count": 121,
   "id": "64534e9a-a3c1-4c39-b028-1082b24d5034",
   "metadata": {},
   "outputs": [
    {
     "name": "stdout",
     "output_type": "stream",
     "text": [
      "name John college IIT\n"
     ]
    }
   ],
   "source": [
    "stu.show()"
   ]
  },
  {
   "cell_type": "code",
   "execution_count": 6,
   "id": "84ed5759-8d23-4e36-85fa-776195fa2374",
   "metadata": {},
   "outputs": [],
   "source": [
    "# Class Methods bound to the class, can access and modify methods and attributes of all instances.\n",
    "class Student:\n",
    "    def __init__(self,name):\n",
    "        self.name = name\n",
    "\n",
    "    @classmethod #bound to class\n",
    "    def Student_details(cls,name): # From here Data is being passed directly to init\n",
    "        return cls(name)           # even if name is changed to name1 still it will be passed\n",
    "                                   # to name in init__(self,name) constructor"
   ]
  },
  {
   "cell_type": "code",
   "execution_count": 12,
   "id": "ac16d32f-a383-4eb3-b71f-b4fa23597fd3",
   "metadata": {},
   "outputs": [],
   "source": [
    "obj = Student.Student_details('John') # alternative way of consuming data inside class"
   ]
  },
  {
   "cell_type": "code",
   "execution_count": 14,
   "id": "b8c44d44-3a10-4618-84d0-65a00aa6d5d4",
   "metadata": {},
   "outputs": [
    {
     "data": {
      "text/plain": [
       "'John'"
      ]
     },
     "execution_count": 14,
     "metadata": {},
     "output_type": "execute_result"
    }
   ],
   "source": [
    "obj.name"
   ]
  },
  {
   "cell_type": "code",
   "execution_count": 26,
   "id": "5c458610-37bf-4e87-b709-15936149a7a9",
   "metadata": {},
   "outputs": [],
   "source": [
    "class Student:\n",
    "    total_students = 0\n",
    "    def __init__(self,name):\n",
    "        self.name = name\n",
    "        Student.total_students += 1 #Accessing class variable\n",
    "\n",
    "    @classmethod # class method has access to the instance\n",
    "    def get_total_students(cls): \n",
    "        return cls.total_students "
   ]
  },
  {
   "cell_type": "code",
   "execution_count": 28,
   "id": "8cdd4062-a582-4377-b45d-c3bb867b7d40",
   "metadata": {},
   "outputs": [],
   "source": [
    "std1 = Student(\"Albert\")"
   ]
  },
  {
   "cell_type": "code",
   "execution_count": 30,
   "id": "ef7e9d12-128e-4425-a152-2362948fe32e",
   "metadata": {},
   "outputs": [],
   "source": [
    "std2 = Student(\"Nicole\")"
   ]
  },
  {
   "cell_type": "code",
   "execution_count": 32,
   "id": "f6f90ce3-7fc9-49b9-a9b2-bf2df84ffbf6",
   "metadata": {},
   "outputs": [
    {
     "data": {
      "text/plain": [
       "2"
      ]
     },
     "execution_count": 32,
     "metadata": {},
     "output_type": "execute_result"
    }
   ],
   "source": [
    "Student.get_total_students()"
   ]
  },
  {
   "cell_type": "code",
   "execution_count": 34,
   "id": "fa9c4b9e-4d2a-491f-bfbf-acd40f7add4f",
   "metadata": {},
   "outputs": [],
   "source": [
    "# To make external class method to be part of class\n",
    "def course_details(cls,course_name):\n",
    "    print(\"The details of the course is:\", course_name)"
   ]
  },
  {
   "cell_type": "code",
   "execution_count": 38,
   "id": "10d00c17-9b87-4f5a-858c-d786950aec7e",
   "metadata": {},
   "outputs": [],
   "source": [
    "Student.course_detail = classmethod(course_details) # adding external class method"
   ]
  },
  {
   "cell_type": "code",
   "execution_count": 40,
   "id": "64812070-9f2c-41e1-98e5-12faab6a4bac",
   "metadata": {},
   "outputs": [
    {
     "name": "stdout",
     "output_type": "stream",
     "text": [
      "The details of the course is: Data science\n"
     ]
    }
   ],
   "source": [
    "Student.course_detail(\"Data science\")"
   ]
  },
  {
   "cell_type": "code",
   "execution_count": 46,
   "id": "f956e090-bbfa-4358-9528-d53e1bda08ec",
   "metadata": {},
   "outputs": [
    {
     "ename": "AttributeError",
     "evalue": "type object 'Student' has no attribute 'course_detail'",
     "output_type": "error",
     "traceback": [
      "\u001b[1;31m---------------------------------------------------------------------------\u001b[0m",
      "\u001b[1;31mAttributeError\u001b[0m                            Traceback (most recent call last)",
      "Cell \u001b[1;32mIn[46], line 2\u001b[0m\n\u001b[0;32m      1\u001b[0m \u001b[38;5;66;03m# delete any class method \u001b[39;00m\n\u001b[1;32m----> 2\u001b[0m \u001b[38;5;28;01mdel\u001b[39;00m Student\u001b[38;5;241m.\u001b[39mcourse_detail  \u001b[38;5;66;03m# 1st way\u001b[39;00m\n\u001b[0;32m      3\u001b[0m \u001b[38;5;28mdelattr\u001b[39m(Student,\u001b[38;5;124m\"\u001b[39m\u001b[38;5;124mget_total_students\u001b[39m\u001b[38;5;124m\"\u001b[39m)\n",
      "\u001b[1;31mAttributeError\u001b[0m: type object 'Student' has no attribute 'course_detail'"
     ]
    }
   ],
   "source": [
    "# delete any class method \n",
    "del Student.course_detail  # 1st way\n",
    "delattr(Student,\"get_total_students\") # 2nd Way"
   ]
  },
  {
   "cell_type": "code",
   "execution_count": 50,
   "id": "8949e597-b640-4c9a-95a3-2197df4f378a",
   "metadata": {},
   "outputs": [],
   "source": [
    "# STATIC METHOD >> it cannot access or modify all instance of class\n",
    "# they work with the parameters that are passed \n",
    "class Math:\n",
    "    @staticmethod\n",
    "    def add(x,y):\n",
    "        return x+y"
   ]
  },
  {
   "cell_type": "code",
   "execution_count": 52,
   "id": "1cf26faa-f275-4730-9ded-ba470de1c760",
   "metadata": {},
   "outputs": [
    {
     "data": {
      "text/plain": [
       "5"
      ]
     },
     "execution_count": 52,
     "metadata": {},
     "output_type": "execute_result"
    }
   ],
   "source": [
    "Math.add(2,3) # no need to create object"
   ]
  }
 ],
 "metadata": {
  "kernelspec": {
   "display_name": "Python 3 (ipykernel)",
   "language": "python",
   "name": "python3"
  },
  "language_info": {
   "codemirror_mode": {
    "name": "ipython",
    "version": 3
   },
   "file_extension": ".py",
   "mimetype": "text/x-python",
   "name": "python",
   "nbconvert_exporter": "python",
   "pygments_lexer": "ipython3",
   "version": "3.12.7"
  }
 },
 "nbformat": 4,
 "nbformat_minor": 5
}
