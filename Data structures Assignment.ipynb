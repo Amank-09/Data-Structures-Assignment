{
 "cells": [
  {
   "cell_type": "code",
   "execution_count": 8,
   "id": "b4efbed0-10f7-445c-86db-8f9b4838a507",
   "metadata": {},
   "outputs": [
    {
     "name": "stdin",
     "output_type": "stream",
     "text": [
      "Enter a string Hello World\n"
     ]
    },
    {
     "name": "stdout",
     "output_type": "stream",
     "text": [
      "reverse of this string is: dlroW olleH\n"
     ]
    }
   ],
   "source": [
    "# Q1. write a code to reverse a string\n",
    "s = input(\"Enter a string\")\n",
    "print(\"reverse of this string is:\",s[::-1])\n"
   ]
  },
  {
   "cell_type": "code",
   "execution_count": 3,
   "id": "3bbde47c-f349-4255-94ba-f324ac6cfe33",
   "metadata": {},
   "outputs": [
    {
     "name": "stdin",
     "output_type": "stream",
     "text": [
      "Enter a string: hello\n"
     ]
    },
    {
     "name": "stdout",
     "output_type": "stream",
     "text": [
      "The number of vowels in string is:2 \n"
     ]
    }
   ],
   "source": [
    "# Q2.Write a code to count the number of vowels in a string\n",
    "\n",
    "# Code\n",
    "s = input(\"Enter a string:\")\n",
    "vowels = \"aeiouAEIOU\"\n",
    "count = 0\n",
    "for char in s:\n",
    "    if char in vowels:\n",
    "        count += 1\n",
    "print(f\"The number of vowels in string is:{count} \")"
   ]
  },
  {
   "cell_type": "code",
   "execution_count": 5,
   "id": "da17220b-8003-4429-8bbf-7c3da4f99e35",
   "metadata": {},
   "outputs": [
    {
     "name": "stdin",
     "output_type": "stream",
     "text": [
      "Enter a string: rotator\n"
     ]
    },
    {
     "name": "stdout",
     "output_type": "stream",
     "text": [
      "Given string is a palindrome\n"
     ]
    }
   ],
   "source": [
    "# Q3.Write a code to check if a given string is a palindrome or not\n",
    "\n",
    "# Code\n",
    "string = input(\"Enter a string:\")\n",
    "string_palindrome = string[::-1]\n",
    "if string == string_palindrome:\n",
    "    print(\"Given string is a palindrome\")\n",
    "else:\n",
    "    print(\"Givens string is not a palindrome\")"
   ]
  },
  {
   "cell_type": "code",
   "execution_count": 7,
   "id": "64836752-e3ea-4735-8f47-655e023006b5",
   "metadata": {},
   "outputs": [
    {
     "name": "stdin",
     "output_type": "stream",
     "text": [
      "Enter first string silent\n",
      "Enter second string listen\n"
     ]
    },
    {
     "name": "stdout",
     "output_type": "stream",
     "text": [
      "silent and listen are anagrams of each other\n"
     ]
    }
   ],
   "source": [
    "# Q4.Write a code to check if two given strings are anagrams of each other\n",
    "\n",
    "# Code\n",
    "string1 = input(\"Enter first string\")\n",
    "string2 = input(\"Enter second string\")\n",
    "if sorted(string1) == sorted(string2):\n",
    "    print(f\"{string1} and {string2} are anagrams of each other\" )\n",
    "else:\n",
    "    print(f\"{string1} and {string2} are not anagrams of each other\")"
   ]
  },
  {
   "cell_type": "code",
   "execution_count": 28,
   "id": "a5bc3cfe-30fd-4723-924d-409d0d67a18d",
   "metadata": {},
   "outputs": [
    {
     "name": "stdin",
     "output_type": "stream",
     "text": [
      "Enter a string: HelloWorld\n",
      "Enter a substring: o\n"
     ]
    },
    {
     "name": "stdout",
     "output_type": "stream",
     "text": [
      "Substring 'o' is found at index : [4, 6]\n"
     ]
    }
   ],
   "source": [
    "# Q5.Write a code to find all occurrences of a given substring within another string\n",
    "\n",
    "# Code\n",
    "string = input(\"Enter a string:\")\n",
    "string1 = input(\"Enter a substring:\")\n",
    "occurences = []\n",
    "string_len = len(str)\n",
    "string1_len = len(str1)\n",
    "for i in range(string_len - string1_len + 1):\n",
    "    if str[i: i + string1_len] == string1:\n",
    "        occurences.append(i)\n",
    "        match = True\n",
    "if match == True:\n",
    "    print(f\"Substring '{string1}' is found at index : {occurences}\")\n",
    "else:\n",
    "    print(f\"Substring '{string1}' is not found\")\n",
    "            "
   ]
  },
  {
   "cell_type": "code",
   "execution_count": 9,
   "id": "73d9dc56-4ba7-4f28-ada1-3042dcca0be7",
   "metadata": {},
   "outputs": [
    {
     "name": "stdin",
     "output_type": "stream",
     "text": [
      "Enter a string: aabbb\n"
     ]
    },
    {
     "name": "stdout",
     "output_type": "stream",
     "text": [
      "compressed string: a2b3\n"
     ]
    }
   ],
   "source": [
    "# Q6.Write a code to perform basic string compression using the counts of repeated characters\n",
    "\n",
    "# Code\n",
    "input_string = input(\"Enter a string:\")\n",
    "input_string = input_string + \" \" # space is added to process the last group\n",
    "ch = input_string[0]\n",
    "count = 0\n",
    "compressed = \"\"\n",
    "for i in input_string:\n",
    "    if i == ch:\n",
    "        count += 1\n",
    "    else:\n",
    "        compressed += ch + str(count)  # Concatenate the character and its count\n",
    "        ch = i\n",
    "        count = 1\n",
    "print(\"compressed string:\", compressed)"
   ]
  },
  {
   "cell_type": "code",
   "execution_count": 105,
   "id": "2ff6ade7-d4f4-47bd-a5e9-48d6ae89858f",
   "metadata": {},
   "outputs": [
    {
     "name": "stdin",
     "output_type": "stream",
     "text": [
      "Enter a string: hello\n"
     ]
    },
    {
     "name": "stdout",
     "output_type": "stream",
     "text": [
      "string does not have unique characters\n"
     ]
    }
   ],
   "source": [
    "# Q7.Write a code to determine if a string has all unique characters\n",
    "\n",
    "# Code\n",
    "# using set because it only stores unique values\n",
    "string = input(\"Enter a string:\")\n",
    "if len(string) == len(sorted(set(string))):\n",
    "    print(\"string has unique characters\")\n",
    "else:\n",
    "    print(\"string does not have unique characters\")"
   ]
  },
  {
   "cell_type": "code",
   "execution_count": 123,
   "id": "b30b5922-0a28-4fce-a044-5606815637cf",
   "metadata": {},
   "outputs": [
    {
     "name": "stdin",
     "output_type": "stream",
     "text": [
      "Enter a string: python code\n",
      "Do you want to convert the string to uppercase or lowercase: uppercase\n"
     ]
    },
    {
     "name": "stdout",
     "output_type": "stream",
     "text": [
      "String in uppercase is : PYTHON CODE\n"
     ]
    }
   ],
   "source": [
    "# Q8.Write a code to convert a given string to uppercase or lowercase\n",
    "\n",
    "# Code\n",
    "string = input(\"Enter a string:\")\n",
    "choice = input(\"Do you want to convert the string to uppercase or lowercase:\")\n",
    "if choice == 'uppercase':\n",
    "    converted_string = string.upper()\n",
    "    print(\"String in uppercase is :\", converted_string)\n",
    "elif choice == 'lowercase':\n",
    "    converted_string = string.lower()\n",
    "    print(\"String in lowercase is :\",converted_string)\n",
    "else:\n",
    "    print(\"Invalid choice. Enter either uppercase or lowercase\")"
   ]
  },
  {
   "cell_type": "code",
   "execution_count": 10,
   "id": "09a43761-3bf3-4ba3-8fa4-2f8b0699ba20",
   "metadata": {},
   "outputs": [
    {
     "name": "stdin",
     "output_type": "stream",
     "text": [
      "Enter a string:  this is a sample text\n"
     ]
    },
    {
     "name": "stdout",
     "output_type": "stream",
     "text": [
      "The number of words in the string is: 5\n"
     ]
    }
   ],
   "source": [
    "# Q9.Write a code to count the number of words in a string\n",
    "\n",
    "# Code\n",
    "string = input(\"Enter a string: \")\n",
    "\n",
    "# Splitting the string into words\n",
    "words = string.split()\n",
    "\n",
    "# Counting the words\n",
    "word_count = len(words)\n",
    "\n",
    "# Displaying the result\n",
    "print(\"The number of words in the string is:\", word_count)\n"
   ]
  },
  {
   "cell_type": "code",
   "execution_count": 16,
   "id": "a0e711ee-9338-4bd0-b23e-a8be093a3ba5",
   "metadata": {},
   "outputs": [
    {
     "name": "stdin",
     "output_type": "stream",
     "text": [
      "Enter the first string:  Hello\n",
      "Enter the second string:  World\n"
     ]
    },
    {
     "name": "stdout",
     "output_type": "stream",
     "text": [
      "The concatenated string is: Hello World\n"
     ]
    }
   ],
   "source": [
    "# Q10.Write a code to concatenate two strings without using the + operator\n",
    "\n",
    "# Code\n",
    "# Input strings\n",
    "string1 = input(\"Enter the first string: \")\n",
    "string2 = input(\"Enter the second string: \")\n",
    "\n",
    "# Concatenating strings using join()\n",
    "result = \" \".join([string1, string2])\n",
    "\n",
    "# Displaying the result\n",
    "print(\"The concatenated string is:\", result)\n"
   ]
  },
  {
   "cell_type": "code",
   "execution_count": 5,
   "id": "904bffc7-ebb4-4c42-8b6a-a04eb01ad2d4",
   "metadata": {},
   "outputs": [
    {
     "name": "stdin",
     "output_type": "stream",
     "text": [
      "Enter the list elements:  1 2 1\n",
      "Enter the element to remove: 1\n"
     ]
    },
    {
     "name": "stdout",
     "output_type": "stream",
     "text": [
      "List after removing all occurrences of the element: [2]\n"
     ]
    }
   ],
   "source": [
    "# Q11.Write a code to remove all occurrences of a specific element from a list\n",
    "\n",
    "# Code\n",
    "lst = map(int,input(\"Enter the list elements: \").split())\n",
    "# to remove any number of elements\n",
    "element_to_remove = list(map(int,input(\"Enter the element to remove:\").split()))\n",
    "\n",
    "# Removing all occurrences of the element\n",
    "result = [item for item in lst if item not in element_to_remove]\n",
    "\n",
    "# Displaying the result\n",
    "print(\"List after removing all occurrences of the element:\", result)\n"
   ]
  },
  {
   "cell_type": "code",
   "execution_count": 74,
   "id": "99b324d1-7497-4852-9d6a-3a68c286ecd1",
   "metadata": {},
   "outputs": [
    {
     "name": "stdin",
     "output_type": "stream",
     "text": [
      "Enter the list of integers separated by spaces:  4 2 9 4 7 1\n"
     ]
    },
    {
     "name": "stdout",
     "output_type": "stream",
     "text": [
      "The second largest number is: 7\n"
     ]
    }
   ],
   "source": [
    "# Q12.Implement a code to find the second largest number in a given list of integers\n",
    "\n",
    "# Code\n",
    "# Input list\n",
    "lst = list(map(int, input(\"Enter the list of integers separated by spaces: \").split()))\n",
    "\n",
    "# Ensure there are at least two distinct numbers\n",
    "if len(set(lst)) < 2:\n",
    "    print(\"The list must contain at least two distinct numbers.\")\n",
    "else:\n",
    "    # Sort the list in descending order and find the second largest\n",
    "    lst = sorted(set(lst), reverse=True)\n",
    "    second_largest = lst[1]\n",
    "    print(\"The second largest number is:\", second_largest)\n"
   ]
  },
  {
   "cell_type": "code",
   "execution_count": 76,
   "id": "6b0f8f45-01f1-4389-a3e0-ce8fb090bbd9",
   "metadata": {},
   "outputs": [
    {
     "name": "stdin",
     "output_type": "stream",
     "text": [
      "Enter the list elements separated by spaces:  apple banana orange apple orange grapes\n"
     ]
    },
    {
     "name": "stdout",
     "output_type": "stream",
     "text": [
      "Occurrences of each element: {'apple': 2, 'banana': 1, 'orange': 2, 'grapes': 1}\n"
     ]
    }
   ],
   "source": [
    "# Q13.Create a code to count the occurrences of each element in a list and return a dictionary\n",
    "#     with elements as keys and their counts as values.\n",
    "\n",
    "# Code\n",
    "lis = input(\"Enter the list elements separated by spaces: \").split()\n",
    "\n",
    "# Dictionary to store counts\n",
    "counts = {}\n",
    "\n",
    "# Counting occurrences of each element\n",
    "for element in lis:\n",
    "    if element in counts:\n",
    "        counts[element] += 1\n",
    "    else:\n",
    "        counts[element] = 1\n",
    "\n",
    "# Displaying the dictionary\n",
    "print(\"Occurrences of each element:\", counts)\n"
   ]
  },
  {
   "cell_type": "code",
   "execution_count": 86,
   "id": "ed1cf9a4-8479-4aab-83dd-03d5b1afe2e1",
   "metadata": {},
   "outputs": [
    {
     "name": "stdin",
     "output_type": "stream",
     "text": [
      "Enter the list elements separated by spaces:  1 2 3 4 5 \n"
     ]
    },
    {
     "name": "stdout",
     "output_type": "stream",
     "text": [
      "Reversed list: ['5', '4', '3', '2', '1']\n"
     ]
    }
   ],
   "source": [
    "# Q14.Write a code to reverse a list in-place without using any built-in reverse functions\n",
    "\n",
    "# Code\n",
    "lis = input(\"Enter the list elements separated by spaces: \").split()\n",
    "\n",
    "# Reverse the list in-place using two-pointer approach\n",
    "left = 0\n",
    "right = len(lis) - 1\n",
    "\n",
    "while left < right:\n",
    "    # Swap the elements at left and right indices\n",
    "    lis[left], lis[right] = lis[right], lis[left]\n",
    "    # Move the pointers\n",
    "    left += 1\n",
    "    right -= 1\n",
    "\n",
    "# Display the reversed list\n",
    "print(\"Reversed list:\", lis)\n"
   ]
  },
  {
   "cell_type": "code",
   "execution_count": 88,
   "id": "3439bb19-7517-452c-88de-1ef36e0b80fb",
   "metadata": {},
   "outputs": [
    {
     "name": "stdin",
     "output_type": "stream",
     "text": [
      "Enter the list elements separated by spaces:  apple banana apple orange banana\n"
     ]
    },
    {
     "name": "stdout",
     "output_type": "stream",
     "text": [
      "List after removing duplicates: ['apple', 'banana', 'orange']\n"
     ]
    }
   ],
   "source": [
    "# Q15.Implement a code to find and remove duplicates from a list while preserving the \n",
    "#     original order of elements.\n",
    "\n",
    "# Code\n",
    "lst = input(\"Enter the list elements separated by spaces: \").split()\n",
    "\n",
    "# List to store unique elements\n",
    "unique_elements = []\n",
    "\n",
    "# Removing duplicates while preserving order\n",
    "for element in lst:\n",
    "    if element not in unique_elements:\n",
    "        unique_elements.append(element)\n",
    "\n",
    "# Displaying the list without duplicates\n",
    "print(\"List after removing duplicates:\", unique_elements)\n"
   ]
  },
  {
   "cell_type": "code",
   "execution_count": 94,
   "id": "613ceabe-4538-491b-9e23-11c11aef8a3d",
   "metadata": {},
   "outputs": [
    {
     "name": "stdin",
     "output_type": "stream",
     "text": [
      "Enter the list elements separated by spaces:  1 3 2 4 5\n"
     ]
    },
    {
     "name": "stdout",
     "output_type": "stream",
     "text": [
      "Given list is not sorted\n"
     ]
    }
   ],
   "source": [
    "# Q16.Create a code to check if a given list is sorted (either in ascending or descending order) or not\n",
    "\n",
    "# Code\n",
    "lst = input(\"Enter the list elements separated by spaces: \").split()\n",
    "if lst == sorted(lst):\n",
    "    print(\"Given list is a sorted list in ascending order\")\n",
    "elif lst == sorted(lst, reverse = True):\n",
    "    print(\"Given list is a sorted list in descending order\")\n",
    "else:\n",
    "    print(\"Given list is not sorted\")"
   ]
  },
  {
   "cell_type": "code",
   "execution_count": 98,
   "id": "5e454ae5-a62d-4db3-a59f-faefd46d86b5",
   "metadata": {},
   "outputs": [
    {
     "name": "stdin",
     "output_type": "stream",
     "text": [
      "Enter the elements of first sorted list separated by spaces: 1 8 16 32\n",
      "Enter the elements of second sorted list separated by spaces: 9 18 27 36\n"
     ]
    },
    {
     "name": "stdout",
     "output_type": "stream",
     "text": [
      "Merged sorted list: [1, 8, 9, 16, 18, 27, 32, 36]\n"
     ]
    }
   ],
   "source": [
    "# Q17.Write a code to merge two sorted lists into a single sorted list\n",
    "\n",
    "# Code\n",
    "list1 = list(map(int, input(\"Enter the elements of first sorted list separated by spaces:\").split()))\n",
    "list2 = list(map(int, input(\"Enter the elements of second sorted list separated by spaces:\").split()))\n",
    "merge_list = []\n",
    "i = 0\n",
    "j = 0\n",
    "\n",
    "while i<len(list1) and j<len(list2):\n",
    "    if list1[i] < list2[j]:\n",
    "        merge_list.append(list1[i])\n",
    "        i += 1\n",
    "    else:\n",
    "        merge_list.append(list2[j])\n",
    "        j += 1\n",
    "\n",
    "# If there are remaining elements in list1\n",
    "while i<len(list1):\n",
    "    merge_list.append(list1[i])\n",
    "    i += 1\n",
    "    \n",
    "# If there are remaining elements in list2\n",
    "while j < len(list2):\n",
    "    merge_list.append(list2[j])\n",
    "    j += 1\n",
    "\n",
    "print(\"Merged sorted list:\", merge_list)"
   ]
  },
  {
   "cell_type": "code",
   "execution_count": 102,
   "id": "bd3761b4-f702-4933-bf39-cda18614ad7d",
   "metadata": {},
   "outputs": [
    {
     "name": "stdin",
     "output_type": "stream",
     "text": [
      "Enter the elements of the first list separated by spaces:  1 2 3 3 4\n",
      "Enter the elements of the second list separated by spaces:  3 3 4 5 6\n"
     ]
    },
    {
     "name": "stdout",
     "output_type": "stream",
     "text": [
      "Intersection of the two lists: [3, 4]\n"
     ]
    }
   ],
   "source": [
    "# Q18.Implement a code to find the intersection of two given lists\n",
    "\n",
    "# Code\n",
    "list1 = list(map(int, input(\"Enter the elements of the first list separated by spaces: \").split()))\n",
    "list2 = list(map(int, input(\"Enter the elements of the second list separated by spaces: \").split()))\n",
    "\n",
    "# Find intersection of the two lists\n",
    "intersection = []\n",
    "for element in list1:\n",
    "    if element in list2 and element not in intersection:\n",
    "        intersection.append(element)\n",
    "\n",
    "# Display the intersection\n",
    "print(\"Intersection of the two lists:\", intersection)\n"
   ]
  },
  {
   "cell_type": "code",
   "execution_count": 106,
   "id": "c265cf0f-22c7-460a-830f-bc58bce2c1ef",
   "metadata": {},
   "outputs": [
    {
     "name": "stdin",
     "output_type": "stream",
     "text": [
      "Enter the elements of the first list separated by spaces:  1 2 3 4 \n",
      "Enter the elements of the second list separated by spaces:  3 4 5 6\n"
     ]
    },
    {
     "name": "stdout",
     "output_type": "stream",
     "text": [
      "Union of the two lists without duplicates: [1, 2, 3, 4, 5, 6]\n"
     ]
    }
   ],
   "source": [
    "# Q19.Create a code to find the union of two lists without duplicates\n",
    "\n",
    "# Code \n",
    "\n",
    "list1 = list(map(int, input(\"Enter the elements of the first list separated by spaces: \").split()))\n",
    "list2 = list(map(int, input(\"Enter the elements of the second list separated by spaces: \").split()))\n",
    "\n",
    "union = []\n",
    "\n",
    "# Add elements of list1 to union\n",
    "for element in list1:\n",
    "    if element not in union:\n",
    "        union.append(element)\n",
    "\n",
    "# Add elements of list2 to union (only those not already in union)\n",
    "for element in list2:\n",
    "    if element not in union:\n",
    "        union.append(element)\n",
    "\n",
    "# Display the union of the lists\n",
    "print(\"Union of the two lists without duplicates:\", union)\n"
   ]
  },
  {
   "cell_type": "code",
   "execution_count": 11,
   "id": "0119fcb7-668f-4ef6-a1ed-164c570068cf",
   "metadata": {},
   "outputs": [
    {
     "name": "stdin",
     "output_type": "stream",
     "text": [
      "Enter the elements of the list separated by spaces:  1 2 3 4 5 \n"
     ]
    },
    {
     "name": "stdout",
     "output_type": "stream",
     "text": [
      "Shuffled list: [3, 1, 2, 5, 4]\n"
     ]
    }
   ],
   "source": [
    "# Q20.Write a code to shuffle a given list randomly without using any built-in shuffle functions.\n",
    "\n",
    "# Code \n",
    "import random\n",
    "\n",
    "# Input: A list of elements\n",
    "lst = list(map(int, input(\"Enter the elements of the list separated by spaces: \").split()))\n",
    "\n",
    "# Shuffle the list randomly\n",
    "n = len(lst)\n",
    "for i in range(n-1, 0, -1):\n",
    "    # Generates random indexes j between 0 and i to be swapped with indexes i\n",
    "    j = random.randint(0, i)\n",
    "    \n",
    "    # Swap the elements at index i and j\n",
    "    lst[i], lst[j] = lst[j], lst[i]\n",
    "\n",
    "# Display the shuffled list\n",
    "print(\"Shuffled list:\", lst)\n"
   ]
  },
  {
   "cell_type": "code",
   "execution_count": 110,
   "id": "122a3e44-0e63-4a42-a559-c471c0150db2",
   "metadata": {},
   "outputs": [
    {
     "name": "stdin",
     "output_type": "stream",
     "text": [
      "Enter elements of first tuple separated by space:  1 2 3 4 5\n",
      "Enter elements of second tuple separated by space:  3 4 5 6 7\n"
     ]
    },
    {
     "name": "stdout",
     "output_type": "stream",
     "text": [
      "Common elements: ('5', '3', '4')\n"
     ]
    }
   ],
   "source": [
    "# Q21.Write a code that takes two tuples as input and returns a new tuple containing elements that are common to both input tuples\n",
    "\n",
    "# Code\n",
    "tuple1 = tuple(input(\"Enter elements of first tuple separated by space: \").split())\n",
    "tuple2 = tuple(input(\"Enter elements of second tuple separated by space: \").split())\n",
    "\n",
    "# Find common elements between the two tuples\n",
    "common_elements = tuple(set(tuple1) & set(tuple2))\n",
    "\n",
    "# Display the common elements as a new tuple\n",
    "print(\"Common elements:\", common_elements)\n"
   ]
  },
  {
   "cell_type": "code",
   "execution_count": 112,
   "id": "aff78cbf-eb6d-49e4-8fd8-44f557bf3617",
   "metadata": {},
   "outputs": [
    {
     "name": "stdin",
     "output_type": "stream",
     "text": [
      "Enter the first set of integers (separated by commas):  1,2,3,4,5\n",
      "Enter the second set of integers (separated by commas):  3,4,5,6,7\n"
     ]
    },
    {
     "name": "stdout",
     "output_type": "stream",
     "text": [
      "The intersection of the two sets is: {3, 4, 5}\n"
     ]
    }
   ],
   "source": [
    "# Q22.Create a code that prompts the user to enter two sets of integers separated by commas. Then, print the intersection of these two sets\n",
    "\n",
    "# Code\n",
    "\n",
    "set1 = set(map(int, input(\"Enter the first set of integers (separated by commas): \").split(',')))\n",
    "set2 = set(map(int, input(\"Enter the second set of integers (separated by commas): \").split(',')))\n",
    "\n",
    "# Calculate the intersection of the two sets\n",
    "intersection = set1 & set2\n",
    "\n",
    "# Print the intersection\n",
    "print(\"The intersection of the two sets is:\", intersection)\n"
   ]
  },
  {
   "cell_type": "code",
   "execution_count": 15,
   "id": "3c1b5188-dab6-489a-a3d5-938776cbf688",
   "metadata": {},
   "outputs": [
    {
     "name": "stdin",
     "output_type": "stream",
     "text": [
      "Enter elements of the first tuple separated by space:  1 2 3\n",
      "Enter elements of the second tuple separated by space:  4 5 6\n"
     ]
    },
    {
     "name": "stdout",
     "output_type": "stream",
     "text": [
      "Concatenated tuple: ('1', '2', '3', '4', '5', '6')\n"
     ]
    }
   ],
   "source": [
    "# Q23.Write a code to concatenate two tuples. The function should take two tuples as input and return a new tuple containing elements from both input tuples\n",
    "\n",
    "# Code\n",
    "def concatenate_tuples(tuple1, tuple2):\n",
    "    # Concatenate the two tuples\n",
    "    return tuple1 + tuple2\n",
    "\n",
    "# Example usage:\n",
    "tuple1 = tuple(input(\"Enter elements of the first tuple separated by space: \").split())\n",
    "tuple2 = tuple(input(\"Enter elements of the second tuple separated by space: \").split())\n",
    "\n",
    "result = concatenate_tuples(tuple1, tuple2)\n",
    "print(\"Concatenated tuple:\", result)\n"
   ]
  },
  {
   "cell_type": "code",
   "execution_count": 3,
   "id": "c30f7253-96fc-4ad4-8604-67dde3777b54",
   "metadata": {},
   "outputs": [
    {
     "name": "stdin",
     "output_type": "stream",
     "text": [
      "Enter the first set of strings (separated by spaces):  apple banana cherry\n",
      "Enter the second set of strings (separated by spaces):  banana mango grape\n"
     ]
    },
    {
     "name": "stdout",
     "output_type": "stream",
     "text": [
      "Elements present in the first set but not in the second set:\n",
      "cherry\n",
      "apple\n"
     ]
    }
   ],
   "source": [
    "# Q24.Develop a code that prompts the user to input two sets of strings. \n",
    "#     Then, print the elements that are present in the first set but not in the second set\n",
    "\n",
    "# Code\n",
    "\n",
    "set1 = set(input(\"Enter the first set of strings (separated by spaces): \").split())\n",
    "set2 = set(input(\"Enter the second set of strings (separated by spaces): \").split())\n",
    "\n",
    "# Calculate the difference: elements in set1 but not in set2\n",
    "difference = set1 - set2\n",
    "\n",
    "# Print the result\n",
    "if difference:\n",
    "    print(\"Elements present in the first set but not in the second set:\")\n",
    "    for element in difference:\n",
    "        print(element)\n",
    "else:\n",
    "    print(\"No elements are unique to the first set.\")\n",
    "\n"
   ]
  },
  {
   "cell_type": "code",
   "execution_count": 2,
   "id": "270407d2-905f-4bbb-89ea-3fa8f927e17a",
   "metadata": {},
   "outputs": [
    {
     "name": "stdin",
     "output_type": "stream",
     "text": [
      "Enter the tuple elements (space-separated integers):  10 11 15 35 45 50\n",
      "Enter the start index:  2\n",
      "Enter the end index:  5\n"
     ]
    },
    {
     "name": "stdout",
     "output_type": "stream",
     "text": [
      "Original tuple: (10, 11, 15, 35, 45, 50)\n",
      "Extracted subtuple: (15, 35, 45)\n"
     ]
    }
   ],
   "source": [
    "# Q25. Create a code that takes a tuple and two integers as input . \n",
    "#      The function should return a new tuple containing elements from the original tuple within the specified range of indices.\n",
    "\n",
    "# code\n",
    "def extract_subtuple(input_tuple, start_index, end_index):\n",
    "    \"\"\"\n",
    "    Extracts elements from the input tuple within the specified range of indices.\n",
    "    \n",
    "    Parameters:\n",
    "        input_tuple (tuple): The original tuple.\n",
    "        start_index (int): The starting index (inclusive).\n",
    "        end_index (int): The ending index (exclusive).\n",
    "    \n",
    "    Returns:\n",
    "        tuple: A new tuple containing the specified range of elements.\n",
    "    \"\"\"\n",
    "    # Return the sliced tuple\n",
    "    return input_tuple[start_index:end_index]\n",
    "\n",
    "# Input\n",
    "input_tuple = tuple(map(int, input(\"Enter the tuple elements (space-separated integers): \").split()))\n",
    "start_index = int(input(\"Enter the start index: \"))\n",
    "end_index = int(input(\"Enter the end index: \"))\n",
    "\n",
    "# Extracting the subtuple\n",
    "result = extract_subtuple(input_tuple, start_index, end_index)\n",
    "\n",
    "# Displaying the result\n",
    "print(\"Original tuple:\", input_tuple)\n",
    "print(\"Extracted subtuple:\", result)\n"
   ]
  },
  {
   "cell_type": "code",
   "execution_count": 6,
   "id": "eecbfcbb-c406-4497-b6f3-5929b8ef15c8",
   "metadata": {},
   "outputs": [
    {
     "name": "stdin",
     "output_type": "stream",
     "text": [
      "Enter the first set of characters (space-separated):  a b c\n",
      "Enter the second set of characters (space-separated):  d e f\n"
     ]
    },
    {
     "name": "stdout",
     "output_type": "stream",
     "text": [
      "Union of the two sets: ['a', 'b', 'c', 'd', 'e', 'f']\n"
     ]
    }
   ],
   "source": [
    "# Q26. Write a code that prompts the user to input two sets of characters .Then, print the Union of these two sets.\n",
    "\n",
    "# code\n",
    "# Input two sets of characters from the user\n",
    "set1 = set(input(\"Enter the first set of characters (space-separated): \").split())\n",
    "set2 = set(input(\"Enter the second set of characters (space-separated): \").split())\n",
    "\n",
    "# Compute the union of the two sets\n",
    "union_set = sorted(set1.union(set2))\n",
    "\n",
    "# Display the result\n",
    "print(\"Union of the two sets:\", union_set)\n"
   ]
  },
  {
   "cell_type": "code",
   "execution_count": 1,
   "id": "59308fb0-18a3-425b-a310-c48c7e361415",
   "metadata": {},
   "outputs": [
    {
     "name": "stdout",
     "output_type": "stream",
     "text": [
      "Maximum: 10\n",
      "Minimum: -5\n"
     ]
    }
   ],
   "source": [
    "# Q27. Develop a code that takes a tuple of integers as input. The function should return the maximum and minimum values from the tuple \n",
    "#      using tuple unpacking\n",
    "\n",
    "def find_max_min(numbers):\n",
    "    if not numbers:\n",
    "        return None, None\n",
    "\n",
    "    # Unpack the first element, rest go into the rest tuple\n",
    "    first, *rest = numbers\n",
    "    max_val = min_val = first\n",
    "\n",
    "    for num in rest:\n",
    "        if num > max_val:\n",
    "            max_val = num\n",
    "        elif num < min_val:\n",
    "            min_val = num\n",
    "\n",
    "    return max_val, min_val\n",
    "\n",
    "input_tuple = (3, 7, 2, 9, -5, 10)\n",
    "max_value, min_value = find_max_min(input_tuple)\n",
    "print(\"Maximum:\", max_value)\n",
    "print(\"Minimum:\", min_value)"
   ]
  },
  {
   "cell_type": "code",
   "execution_count": 3,
   "id": "b6ff3a93-66ba-4e60-8ae0-5aae334dc8dc",
   "metadata": {},
   "outputs": [
    {
     "name": "stdout",
     "output_type": "stream",
     "text": [
      "Set 1: {1, 2, 3, 4, 5}\n",
      "Set 2: {4, 5, 6, 7, 8}\n",
      "Union: {1, 2, 3, 4, 5, 6, 7, 8}\n",
      "Intersection: {4, 5}\n",
      "Difference (Set1 - Set2): {1, 2, 3}\n"
     ]
    }
   ],
   "source": [
    "# Q28.  Create a code that defines two sets of integers. Then, print the union, intersection, and difference of these two sets\n",
    "\n",
    "set1 = {1, 2, 3, 4, 5}\n",
    "set2 = {4, 5, 6, 7, 8}\n",
    "\n",
    "# Union: elements from both sets (no duplicates)\n",
    "union_set = set1 | set2\n",
    "\n",
    "# Intersection: elements common to both sets\n",
    "intersection_set = set1 & set2\n",
    "\n",
    "# Difference: elements in set1 but not in set2\n",
    "difference_set = set1 - set2\n",
    "\n",
    "# Display the results\n",
    "print(\"Set 1:\", set1)\n",
    "print(\"Set 2:\", set2)\n",
    "print(\"Union:\", union_set)\n",
    "print(\"Intersection:\", intersection_set)\n",
    "print(\"Difference (Set1 - Set2):\", difference_set)\n"
   ]
  },
  {
   "cell_type": "code",
   "execution_count": 11,
   "id": "1b0eb774-fffd-4f55-b52f-d117144e1bbe",
   "metadata": {},
   "outputs": [
    {
     "name": "stdout",
     "output_type": "stream",
     "text": [
      "The element 2 occurs 3 times in the tuple.\n"
     ]
    }
   ],
   "source": [
    "# Q29. Write a code that takes a tuple and an element as input. The function should return the count of occurrences of the given element in the tuple\n",
    "\n",
    "def count_occurrences(data_tuple, element):\n",
    "    return data_tuple.count(element)\n",
    "\n",
    "\n",
    "input_tuple = (1, 2, 3, 2, 4, 2, 5)\n",
    "element_to_count = 2\n",
    "\n",
    "count = count_occurrences(input_tuple, element_to_count)\n",
    "print(f\"The element {element_to_count} occurs {count} times in the tuple.\")\n"
   ]
  },
  {
   "cell_type": "code",
   "execution_count": 13,
   "id": "48dfe197-00af-4e79-b03f-dd32c20a0f69",
   "metadata": {},
   "outputs": [
    {
     "name": "stdin",
     "output_type": "stream",
     "text": [
      "Enter elements of the first set (separated by spaces):  apple banana mango\n",
      "Enter elements of the second set (separated by spaces):  banana orange grape\n"
     ]
    },
    {
     "name": "stdout",
     "output_type": "stream",
     "text": [
      "Symmetric Difference: {'orange', 'apple', 'grape', 'mango'}\n"
     ]
    }
   ],
   "source": [
    "# Q30. Develop a code that prompts the user to input two sets of strings. Then, print the symmetric difference of these two sets\n",
    "\n",
    "# Prompt user to enter two sets of strings\n",
    "set1_input = input(\"Enter elements of the first set (separated by spaces): \")\n",
    "set2_input = input(\"Enter elements of the second set (separated by spaces): \")\n",
    "\n",
    "# Convert input strings to sets\n",
    "set1 = set(set1_input.split())\n",
    "set2 = set(set2_input.split())\n",
    "\n",
    "# Calculate symmetric difference\n",
    "symmetric_diff = set1 ^ set2  # or set1.symmetric_difference(set2)\n",
    "\n",
    "# Display the result\n",
    "print(\"Symmetric Difference:\", symmetric_diff)\n"
   ]
  },
  {
   "cell_type": "code",
   "execution_count": 1,
   "id": "5039b4bd-11cd-4ffa-b5f4-690375e27062",
   "metadata": {},
   "outputs": [
    {
     "name": "stdout",
     "output_type": "stream",
     "text": [
      "{'apple': 3, 'banana': 2, 'orange': 1}\n"
     ]
    }
   ],
   "source": [
    "# Q31.  Write a code that takes a list of words as input and returns a dictionary where the keys are unique words\n",
    "#       and the values are the frequencies of those words in the input list\n",
    "\n",
    "def word_frequencies(word_list):\n",
    "    frequency_dict = {}\n",
    "    for word in word_list:\n",
    "        if word in frequency_dict:\n",
    "            frequency_dict[word] += 1\n",
    "        else:\n",
    "            frequency_dict[word] = 1\n",
    "    return frequency_dict\n",
    "\n",
    "\n",
    "words = [\"apple\", \"banana\", \"apple\", \"orange\", \"banana\", \"apple\"]\n",
    "result = word_frequencies(words)\n",
    "print(result)\n"
   ]
  },
  {
   "cell_type": "code",
   "execution_count": 3,
   "id": "02aa8b93-b6dd-439f-8da1-a2eb125cd009",
   "metadata": {},
   "outputs": [
    {
     "name": "stdout",
     "output_type": "stream",
     "text": [
      "{'a': 10, 'b': 25, 'c': 45, 'd': 25}\n"
     ]
    }
   ],
   "source": [
    "# Q32. Write a code that takes two dictionaries as input and merges them into a single dictionary. If there are \n",
    "#     common keys, the values should be added together\n",
    "\n",
    "def merge_dictionaries(dict1, dict2):\n",
    "    merged_dict = dict1.copy()  # Start with a copy of the first dictionary\n",
    "    for key, value in dict2.items():\n",
    "        if key in merged_dict:\n",
    "            merged_dict[key] += value  # Add values if key exists in both\n",
    "        else:\n",
    "            merged_dict[key] = value   # Otherwise, add the new key-value pair\n",
    "    return merged_dict\n",
    "\n",
    "\n",
    "dict_a = {'a': 10, 'b': 20, 'c': 30}\n",
    "dict_b = {'b': 5, 'c': 15, 'd': 25}\n",
    "result = merge_dictionaries(dict_a, dict_b)\n",
    "print(result)\n"
   ]
  },
  {
   "cell_type": "code",
   "execution_count": 5,
   "id": "ff8671a5-36c3-4b1a-be7d-b8dd74841b24",
   "metadata": {},
   "outputs": [
    {
     "name": "stdout",
     "output_type": "stream",
     "text": [
      "42\n",
      "None\n"
     ]
    }
   ],
   "source": [
    "# Q33. Write a code to access a value in a nested dictionary. The function should take the dictionary and a list of keys as input, and return the \n",
    "#    corresponding value. If any of the keys do not exist in the dictionary, the function should return None\n",
    "\n",
    "def get_nested_value(nested_dict, keys):\n",
    "    current = nested_dict\n",
    "    for key in keys:\n",
    "        if isinstance(current, dict) and key in current:\n",
    "            current = current[key]\n",
    "        else:\n",
    "            return None\n",
    "    return current\n",
    "\n",
    "# Example usage:\n",
    "nested_dict = {\n",
    "    'a': {\n",
    "        'b': {\n",
    "            'c': 42\n",
    "        }\n",
    "    }\n",
    "}\n",
    "\n",
    "keys_list = ['a', 'b', 'c']\n",
    "result = get_nested_value(nested_dict, keys_list)\n",
    "print(result)  # Output: 42\n",
    "\n",
    "\n",
    "missing_keys = ['a', 'x', 'c']\n",
    "print(get_nested_value(nested_dict, missing_keys))  # Output: None\n"
   ]
  },
  {
   "cell_type": "code",
   "execution_count": 7,
   "id": "bdaa81f6-5dc9-47f9-9c52-5dabbae56aee",
   "metadata": {},
   "outputs": [
    {
     "name": "stdout",
     "output_type": "stream",
     "text": [
      "Ascending: {'banana': 1, 'date': 2, 'apple': 3, 'cherry': 5}\n",
      "Descending: {'cherry': 5, 'apple': 3, 'date': 2, 'banana': 1}\n"
     ]
    }
   ],
   "source": [
    "# Q34. Write a code that takes a dictionary as input and returns a sorted version of it based on the values. You\n",
    "#     can choose whether to sort in ascending or descending order\n",
    "\n",
    "def sort_dict_by_values(input_dict, ascending=True):\n",
    "    sorted_dict = dict(sorted(input_dict.items(), key=lambda item: item[1], reverse=not ascending))\n",
    "    return sorted_dict\n",
    "\n",
    "\n",
    "my_dict = {'apple': 3, 'banana': 1, 'cherry': 5, 'date': 2}\n",
    "\n",
    "# Sort in ascending order\n",
    "asc_sorted = sort_dict_by_values(my_dict, ascending=True)\n",
    "print(\"Ascending:\", asc_sorted)\n",
    "\n",
    "# Sort in descending order\n",
    "desc_sorted = sort_dict_by_values(my_dict, ascending=False)\n",
    "print(\"Descending:\", desc_sorted)\n"
   ]
  },
  {
   "cell_type": "code",
   "execution_count": 9,
   "id": "18d52ba2-4143-4e5e-b163-a482bd512901",
   "metadata": {},
   "outputs": [
    {
     "name": "stdout",
     "output_type": "stream",
     "text": [
      "{1: ['a', 'c'], 2: ['b', 'e'], 3: ['d']}\n"
     ]
    }
   ],
   "source": [
    "# Q35. Write a code that inverts a dictionary, swapping keys and values. Ensure that the inverted dictionary correctly handles cases where \n",
    "#      multiple keys have the same value by storing the keys as a list in the inverted dictionary\n",
    "\n",
    "def invert_dictionary(input_dict):\n",
    "    inverted = {}\n",
    "    for key, value in input_dict.items():\n",
    "        if value in inverted:\n",
    "            inverted[value].append(key)\n",
    "        else:\n",
    "            inverted[value] = [key]\n",
    "    return inverted\n",
    "\n",
    "\n",
    "original_dict = {'a': 1, 'b': 2, 'c': 1, 'd': 3, 'e': 2}\n",
    "inverted_dict = invert_dictionary(original_dict)\n",
    "print(inverted_dict)\n"
   ]
  }
 ],
 "metadata": {
  "kernelspec": {
   "display_name": "Python 3 (ipykernel)",
   "language": "python",
   "name": "python3"
  },
  "language_info": {
   "codemirror_mode": {
    "name": "ipython",
    "version": 3
   },
   "file_extension": ".py",
   "mimetype": "text/x-python",
   "name": "python",
   "nbconvert_exporter": "python",
   "pygments_lexer": "ipython3",
   "version": "3.12.3"
  }
 },
 "nbformat": 4,
 "nbformat_minor": 5
}
