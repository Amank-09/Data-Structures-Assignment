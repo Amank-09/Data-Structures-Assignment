{
 "cells": [
  {
   "cell_type": "code",
   "execution_count": 1,
   "id": "3ddbae02-1d59-43a1-ba48-636a414de15f",
   "metadata": {},
   "outputs": [
    {
     "data": {
      "text/plain": [
       "'HelloWorld'"
      ]
     },
     "execution_count": 1,
     "metadata": {},
     "output_type": "execute_result"
    }
   ],
   "source": [
    "# DUNDER / SPECIAL METHODS >> reserved functions or methods\n",
    "a = \"Hello\"\n",
    "b = \"World\"\n",
    "a + b"
   ]
  },
  {
   "cell_type": "code",
   "execution_count": 3,
   "id": "4389754f-ffa4-44b0-9dd9-349fb51cedd0",
   "metadata": {},
   "outputs": [
    {
     "data": {
      "text/plain": [
       "'HelloWorld'"
      ]
     },
     "execution_count": 3,
     "metadata": {},
     "output_type": "execute_result"
    }
   ],
   "source": [
    "# same can be done by using dunder methods\n",
    "a.__add__(b)"
   ]
  },
  {
   "cell_type": "code",
   "execution_count": 5,
   "id": "4ea9d6d0-dee5-4faf-bfa8-4ea66ed09985",
   "metadata": {},
   "outputs": [
    {
     "data": {
      "text/plain": [
       "['__add__',\n",
       " '__class__',\n",
       " '__contains__',\n",
       " '__delattr__',\n",
       " '__dir__',\n",
       " '__doc__',\n",
       " '__eq__',\n",
       " '__format__',\n",
       " '__ge__',\n",
       " '__getattribute__',\n",
       " '__getitem__',\n",
       " '__getnewargs__',\n",
       " '__getstate__',\n",
       " '__gt__',\n",
       " '__hash__',\n",
       " '__init__',\n",
       " '__init_subclass__',\n",
       " '__iter__',\n",
       " '__le__',\n",
       " '__len__',\n",
       " '__lt__',\n",
       " '__mod__',\n",
       " '__mul__',\n",
       " '__ne__',\n",
       " '__new__',\n",
       " '__reduce__',\n",
       " '__reduce_ex__',\n",
       " '__repr__',\n",
       " '__rmod__',\n",
       " '__rmul__',\n",
       " '__setattr__',\n",
       " '__sizeof__',\n",
       " '__str__',\n",
       " '__subclasshook__',\n",
       " 'capitalize',\n",
       " 'casefold',\n",
       " 'center',\n",
       " 'count',\n",
       " 'encode',\n",
       " 'endswith',\n",
       " 'expandtabs',\n",
       " 'find',\n",
       " 'format',\n",
       " 'format_map',\n",
       " 'index',\n",
       " 'isalnum',\n",
       " 'isalpha',\n",
       " 'isascii',\n",
       " 'isdecimal',\n",
       " 'isdigit',\n",
       " 'isidentifier',\n",
       " 'islower',\n",
       " 'isnumeric',\n",
       " 'isprintable',\n",
       " 'isspace',\n",
       " 'istitle',\n",
       " 'isupper',\n",
       " 'join',\n",
       " 'ljust',\n",
       " 'lower',\n",
       " 'lstrip',\n",
       " 'maketrans',\n",
       " 'partition',\n",
       " 'removeprefix',\n",
       " 'removesuffix',\n",
       " 'replace',\n",
       " 'rfind',\n",
       " 'rindex',\n",
       " 'rjust',\n",
       " 'rpartition',\n",
       " 'rsplit',\n",
       " 'rstrip',\n",
       " 'split',\n",
       " 'splitlines',\n",
       " 'startswith',\n",
       " 'strip',\n",
       " 'swapcase',\n",
       " 'title',\n",
       " 'translate',\n",
       " 'upper',\n",
       " 'zfill']"
      ]
     },
     "execution_count": 5,
     "metadata": {},
     "output_type": "execute_result"
    }
   ],
   "source": [
    "dir(str) # dunder methods associated with string"
   ]
  },
  {
   "cell_type": "code",
   "execution_count": 7,
   "id": "f9843c18-88b6-4f9c-a79e-39f80f3aee29",
   "metadata": {},
   "outputs": [
    {
     "data": {
      "text/plain": [
       "['__abs__',\n",
       " '__add__',\n",
       " '__and__',\n",
       " '__bool__',\n",
       " '__ceil__',\n",
       " '__class__',\n",
       " '__delattr__',\n",
       " '__dir__',\n",
       " '__divmod__',\n",
       " '__doc__',\n",
       " '__eq__',\n",
       " '__float__',\n",
       " '__floor__',\n",
       " '__floordiv__',\n",
       " '__format__',\n",
       " '__ge__',\n",
       " '__getattribute__',\n",
       " '__getnewargs__',\n",
       " '__getstate__',\n",
       " '__gt__',\n",
       " '__hash__',\n",
       " '__index__',\n",
       " '__init__',\n",
       " '__init_subclass__',\n",
       " '__int__',\n",
       " '__invert__',\n",
       " '__le__',\n",
       " '__lshift__',\n",
       " '__lt__',\n",
       " '__mod__',\n",
       " '__mul__',\n",
       " '__ne__',\n",
       " '__neg__',\n",
       " '__new__',\n",
       " '__or__',\n",
       " '__pos__',\n",
       " '__pow__',\n",
       " '__radd__',\n",
       " '__rand__',\n",
       " '__rdivmod__',\n",
       " '__reduce__',\n",
       " '__reduce_ex__',\n",
       " '__repr__',\n",
       " '__rfloordiv__',\n",
       " '__rlshift__',\n",
       " '__rmod__',\n",
       " '__rmul__',\n",
       " '__ror__',\n",
       " '__round__',\n",
       " '__rpow__',\n",
       " '__rrshift__',\n",
       " '__rshift__',\n",
       " '__rsub__',\n",
       " '__rtruediv__',\n",
       " '__rxor__',\n",
       " '__setattr__',\n",
       " '__sizeof__',\n",
       " '__str__',\n",
       " '__sub__',\n",
       " '__subclasshook__',\n",
       " '__truediv__',\n",
       " '__trunc__',\n",
       " '__xor__',\n",
       " 'as_integer_ratio',\n",
       " 'bit_count',\n",
       " 'bit_length',\n",
       " 'conjugate',\n",
       " 'denominator',\n",
       " 'from_bytes',\n",
       " 'imag',\n",
       " 'is_integer',\n",
       " 'numerator',\n",
       " 'real',\n",
       " 'to_bytes']"
      ]
     },
     "execution_count": 7,
     "metadata": {},
     "output_type": "execute_result"
    }
   ],
   "source": [
    "dir(int) # dunder methods associated with integers"
   ]
  },
  {
   "cell_type": "code",
   "execution_count": 17,
   "id": "001eaa5c-6213-4bf2-bbf8-5266b7e2f137",
   "metadata": {},
   "outputs": [],
   "source": [
    "# DECORATORS>> allows to modify/extend the existing behaviour of func or class without modifying it\n",
    "def my_decorator(func): #decorator func that takes another func as argument\n",
    "    def wrapper(): # adds the functionality before and after calling function\n",
    "        print(\"this will be executed before\")\n",
    "        func()\n",
    "        print(\"this will be executed after\")\n",
    "    return wrapper    "
   ]
  },
  {
   "cell_type": "code",
   "execution_count": 19,
   "id": "2dbf0fa2-3850-436c-a547-48da35489741",
   "metadata": {},
   "outputs": [],
   "source": [
    "@my_decorator\n",
    "def say_hello():\n",
    "    print(\"Hello\")\n",
    "#when say hello is called it is actually calling wrapper which inturn calls say hello (func()this line) and prints Hello"
   ]
  },
  {
   "cell_type": "code",
   "execution_count": 21,
   "id": "0764d18e-ee3b-4780-b0b7-57784b327b9e",
   "metadata": {},
   "outputs": [
    {
     "name": "stdout",
     "output_type": "stream",
     "text": [
      "this will be executed before\n",
      "Hello\n",
      "this will be executed after\n"
     ]
    }
   ],
   "source": [
    "say_hello()"
   ]
  },
  {
   "cell_type": "code",
   "execution_count": 11,
   "id": "3218315d-5c6b-4bb7-a193-ec15b0b937f3",
   "metadata": {},
   "outputs": [],
   "source": [
    "# PROPERTY DECORATORS >> it allows methods to be accessed as attribute/variable and also to modify\n",
    "class Circle:\n",
    "    def __init__(self,radius):\n",
    "        self.radius = radius\n",
    "    @property \n",
    "    def area(self):\n",
    "        radius = self.radius\n",
    "        return 3.14 * radius ** 2"
   ]
  },
  {
   "cell_type": "code",
   "execution_count": 13,
   "id": "f196e7ff-263a-4fcc-b96f-f465734fed29",
   "metadata": {},
   "outputs": [],
   "source": [
    "c = Circle(10)"
   ]
  },
  {
   "cell_type": "code",
   "execution_count": 15,
   "id": "84a4ac44-dd82-4da3-90c4-cba9ec585949",
   "metadata": {},
   "outputs": [
    {
     "data": {
      "text/plain": [
       "314.0"
      ]
     },
     "execution_count": 15,
     "metadata": {},
     "output_type": "execute_result"
    }
   ],
   "source": [
    "c.area # if property decorator was not used then c.area()"
   ]
  },
  {
   "cell_type": "code",
   "execution_count": 23,
   "id": "41793737-3ff5-4d37-b03d-34f6acee7997",
   "metadata": {},
   "outputs": [],
   "source": [
    "class Student:\n",
    "    def __init__(self,name,price):\n",
    "        self.__name = name #private:cannot be accessed outside class\n",
    "        self.__price = price #private:cannot be accessed outside class\n",
    "\n",
    "    @property # it will make access_price as attribute of the class\n",
    "    def access_price(self):\n",
    "        return self.__price"
   ]
  },
  {
   "cell_type": "code",
   "execution_count": 25,
   "id": "49c24334-14b7-4c5e-b9f5-1cc64201af44",
   "metadata": {},
   "outputs": [],
   "source": [
    "stud = Student(\"gilbert\",1000)"
   ]
  },
  {
   "cell_type": "code",
   "execution_count": 27,
   "id": "1acf7c64-26b0-46fb-94e8-5e76dfbbb8c5",
   "metadata": {},
   "outputs": [
    {
     "data": {
      "text/plain": [
       "1000"
      ]
     },
     "execution_count": 27,
     "metadata": {},
     "output_type": "execute_result"
    }
   ],
   "source": [
    "stud.access_price #property decorator makes private attribute accessibe"
   ]
  },
  {
   "cell_type": "code",
   "execution_count": 29,
   "id": "c106ec0e-2f20-4129-88fa-37d5c0bc685a",
   "metadata": {},
   "outputs": [],
   "source": [
    "class Student:\n",
    "    def __init__(self,name,price):\n",
    "        self.__name = name \n",
    "        self.__price = price \n",
    "\n",
    "    @property # it will make access_price as attribute of the class\n",
    "    def access_price(self):\n",
    "        return self.__price\n",
    "\n",
    "    @access_price.setter # modifying price\n",
    "    def price_set(self,price_new):\n",
    "        self.__price = price_new"
   ]
  },
  {
   "cell_type": "code",
   "execution_count": 31,
   "id": "e6a8aa31-75e4-4e30-b19f-18103ba7e265",
   "metadata": {},
   "outputs": [],
   "source": [
    "stud = Student(\"Gilbert\",1000)"
   ]
  },
  {
   "cell_type": "code",
   "execution_count": 33,
   "id": "a70d34a4-2008-43a3-a0ae-1cdfd400ef6a",
   "metadata": {},
   "outputs": [
    {
     "data": {
      "text/plain": [
       "1000"
      ]
     },
     "execution_count": 33,
     "metadata": {},
     "output_type": "execute_result"
    }
   ],
   "source": [
    "stud.access_price"
   ]
  },
  {
   "cell_type": "code",
   "execution_count": 35,
   "id": "8aa7234c-19e0-416b-a388-1913eb72b4bd",
   "metadata": {},
   "outputs": [],
   "source": [
    "stud.price_set = 1500"
   ]
  },
  {
   "cell_type": "code",
   "execution_count": 37,
   "id": "e6693fdf-e004-4f3a-b88e-024f351e2b2f",
   "metadata": {},
   "outputs": [
    {
     "data": {
      "text/plain": [
       "1500"
      ]
     },
     "execution_count": 37,
     "metadata": {},
     "output_type": "execute_result"
    }
   ],
   "source": [
    "stud.access_price"
   ]
  },
  {
   "cell_type": "code",
   "execution_count": null,
   "id": "c04dc68f-cb54-4cbb-a91c-d968d5b63b5e",
   "metadata": {},
   "outputs": [],
   "source": []
  }
 ],
 "metadata": {
  "kernelspec": {
   "display_name": "Python 3 (ipykernel)",
   "language": "python",
   "name": "python3"
  },
  "language_info": {
   "codemirror_mode": {
    "name": "ipython",
    "version": 3
   },
   "file_extension": ".py",
   "mimetype": "text/x-python",
   "name": "python",
   "nbconvert_exporter": "python",
   "pygments_lexer": "ipython3",
   "version": "3.12.7"
  }
 },
 "nbformat": 4,
 "nbformat_minor": 5
}
